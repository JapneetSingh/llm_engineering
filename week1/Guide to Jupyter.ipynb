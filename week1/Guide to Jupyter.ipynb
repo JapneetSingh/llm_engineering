{
 "cells": [
  {
   "cell_type": "markdown",
   "id": "5c291475-8c7c-461c-9b12-545a887b2432",
   "metadata": {},
   "source": [
    "# Jupyter Lab\n",
    "\n",
    "## A Quick Start Guide\n",
    "\n",
    "Welcome to the wonderful world of Jupyter lab!  \n",
    "This is a Data Science playground where you can easily write code and investigate the results. It's an ideal environment for:  \n",
    "- Research & Development\n",
    "- Prototyping\n",
    "- Learning (that's us!)\n",
    "\n",
    "It's not typically used for shipping production code, and in Week 8 we'll explore the bridge between Jupyter and python code.\n",
    "\n",
    "A file in Jupyter Lab, like this one, is called a **Notebook**.\n",
    "\n",
    "A long time ago, Jupyter used to be called \"IPython\", and so the extensions of notebooks are \".ipynb\" which stands for \"IPython Notebook\".\n",
    "\n",
    "On the left is a File Browser that lets you navigate around the directories and choose different notebooks. But you probably know that already, or you wouldn't have got here!\n",
    "\n",
    "The notebook consists of a series of square boxes called \"cells\". Some of them contain text, like this cell, and some of them contain code, like the cell below.\n",
    "\n",
    "Click in a cell with code and press `Shift + Return` (or `Shift + Enter`) to run the code and print the output.\n",
    "\n",
    "Do that now for the cell below this:"
   ]
  },
  {
   "cell_type": "code",
   "execution_count": 1,
   "id": "33d37cd8-55c9-4e03-868c-34aa9cab2c80",
   "metadata": {},
   "outputs": [
    {
     "data": {
      "text/plain": [
       "4"
      ]
     },
     "execution_count": 1,
     "metadata": {},
     "output_type": "execute_result"
    }
   ],
   "source": [
    "# Click anywhere in this cell and press Shift + Return\n",
    "\n",
    "2 + 2"
   ]
  },
  {
   "cell_type": "markdown",
   "id": "9e95df7b-55c6-4204-b8f9-cae83360fc23",
   "metadata": {},
   "source": [
    "## Congrats!\n",
    "\n",
    "Now run the next cell which sets a value, followed by the cells after it to print the value"
   ]
  },
  {
   "cell_type": "code",
   "execution_count": 2,
   "id": "585eb9c1-85ee-4c27-8dc2-b4d8d022eda0",
   "metadata": {},
   "outputs": [],
   "source": [
    "# Set a value for a variable\n",
    "\n",
    "favorite_fruit = \"bananas\""
   ]
  },
  {
   "cell_type": "code",
   "execution_count": 3,
   "id": "07792faa-761d-46cb-b9b7-2bbf70bb1628",
   "metadata": {},
   "outputs": [
    {
     "data": {
      "text/plain": [
       "'bananas'"
      ]
     },
     "execution_count": 3,
     "metadata": {},
     "output_type": "execute_result"
    }
   ],
   "source": [
    "# The result of the last statement is shown after you run it\n",
    "\n",
    "favorite_fruit"
   ]
  },
  {
   "cell_type": "code",
   "execution_count": 4,
   "id": "a067d2b1-53d5-4aeb-8a3c-574d39ff654a",
   "metadata": {},
   "outputs": [
    {
     "name": "stdout",
     "output_type": "stream",
     "text": [
      "My favorite fruit is bananas\n"
     ]
    }
   ],
   "source": [
    "# Use the variable\n",
    "\n",
    "print(f\"My favorite fruit is {favorite_fruit}\")"
   ]
  },
  {
   "cell_type": "code",
   "execution_count": 5,
   "id": "4c5a4e60-b7f4-4953-9e80-6d84ba4664ad",
   "metadata": {},
   "outputs": [],
   "source": [
    "# Now change the variable\n",
    "\n",
    "favorite_fruit = f\"anything but {favorite_fruit}\""
   ]
  },
  {
   "cell_type": "markdown",
   "id": "9442d5c9-f57d-4839-b0af-dce58646c04f",
   "metadata": {},
   "source": [
    "## Now go back and rerun the cell with the print statement, two cells back\n",
    "\n",
    "See how it prints something different, even though favorite_fruit was changed further down in the notebook? \n",
    "\n",
    "The order that code appears in the notebook doesn't matter. What matters is the order that the code is **executed**. There's a python process sitting behind this notebook in which the variables are being changed.\n",
    "\n",
    "This catches some people out when they first use Jupyter."
   ]
  },
  {
   "cell_type": "code",
   "execution_count": 6,
   "id": "8e5ec81d-7c5b-4025-bd2e-468d67b581b6",
   "metadata": {},
   "outputs": [
    {
     "name": "stdout",
     "output_type": "stream",
     "text": [
      "My favorite fruit is anything but bananas\n"
     ]
    }
   ],
   "source": [
    "# Then run this cell twice, and see if you understand what's going on\n",
    "\n",
    "print(f\"My favorite fruit is {favorite_fruit}\")\n",
    "\n",
    "favorite_fruit = \"apples\""
   ]
  },
  {
   "cell_type": "markdown",
   "id": "a29dab2d-bab9-4a54-8504-05e62594cc6f",
   "metadata": {},
   "source": [
    "# Explaining the 'kernel'\n",
    "\n",
    "Sitting behind this notebook is a Python process which executes each cell when you run it. That Python process is known as the Kernel. Each notebook has its own separate Kernel.\n",
    "\n",
    "You can go to the Kernel menu and select \"Restart Kernel\".\n",
    "\n",
    "If you then try to run the next cell, you'll get an error, because favorite_fruit is no longer defined. You'll need to run the cells from the top of the notebook again. Then the next cell should run fine."
   ]
  },
  {
   "cell_type": "code",
   "execution_count": 7,
   "id": "84b1e410-5eda-4e2c-97ce-4eebcff816c5",
   "metadata": {},
   "outputs": [
    {
     "name": "stdout",
     "output_type": "stream",
     "text": [
      "My favorite fruit is apples\n"
     ]
    }
   ],
   "source": [
    "print(f\"My favorite fruit is {favorite_fruit}\")"
   ]
  },
  {
   "cell_type": "markdown",
   "id": "4d4188fc-d9cc-42be-8b4e-ae8630456764",
   "metadata": {},
   "source": [
    "# Adding and moving cells\n",
    "\n",
    "Click in this cell, then click the \\[+\\] button in the toolbar above to create a new cell immediately below this one. Copy and paste in the code in the prior cell, then run it! There are also icons in the top right of the selected cell to delete it (bin), duplicate it, and move it up and down.\n"
   ]
  },
  {
   "cell_type": "code",
   "execution_count": null,
   "id": "ce258424-40c3-49a7-9462-e6fa25014b03",
   "metadata": {},
   "outputs": [],
   "source": []
  },
  {
   "cell_type": "markdown",
   "id": "30e71f50-8f01-470a-9d7a-b82a6cef4236",
   "metadata": {},
   "source": [
    "# Cell output\n",
    "\n",
    "When you execute a cell, the standard output and the result of the last statement is written to the area immediately under the code, known as the 'cell output'. When you save a Notebook from the file menu (or command+S), the output is also saved, making it a useful record of what happened.\n",
    "\n",
    "You can clean this up by going to Edit menu >> Clear Outputs of All Cells, or Kernel menu >> Restart Kernel and Clear Outputs of All Cells."
   ]
  },
  {
   "cell_type": "code",
   "execution_count": 8,
   "id": "a4d021e2-c284-411f-8ab1-030530cfbe72",
   "metadata": {},
   "outputs": [
    {
     "name": "stdout",
     "output_type": "stream",
     "text": [
      "['spam', 'spam', 'spam', 'spam', 'spam', 'spam', 'spam', 'spam', 'spam', 'spam', 'spam', 'spam', 'spam', 'spam', 'spam', 'spam', 'spam', 'spam', 'spam', 'spam', 'spam', 'spam', 'spam', 'spam', 'spam', 'spam', 'spam', 'spam', 'spam', 'spam', 'spam', 'spam', 'spam', 'spam', 'spam', 'spam', 'spam', 'spam', 'spam', 'spam', 'spam', 'spam', 'spam', 'spam', 'spam', 'spam', 'spam', 'spam', 'spam', 'spam', 'spam', 'spam', 'spam', 'spam', 'spam', 'spam', 'spam', 'spam', 'spam', 'spam', 'spam', 'spam', 'spam', 'spam', 'spam', 'spam', 'spam', 'spam', 'spam', 'spam', 'spam', 'spam', 'spam', 'spam', 'spam', 'spam', 'spam', 'spam', 'spam', 'spam', 'spam', 'spam', 'spam', 'spam', 'spam', 'spam', 'spam', 'spam', 'spam', 'spam', 'spam', 'spam', 'spam', 'spam', 'spam', 'spam', 'spam', 'spam', 'spam', 'spam', 'spam', 'spam', 'spam', 'spam', 'spam', 'spam', 'spam', 'spam', 'spam', 'spam', 'spam', 'spam', 'spam', 'spam', 'spam', 'spam', 'spam', 'spam', 'spam', 'spam', 'spam', 'spam', 'spam', 'spam', 'spam', 'spam', 'spam', 'spam', 'spam', 'spam', 'spam', 'spam', 'spam', 'spam', 'spam', 'spam', 'spam', 'spam', 'spam', 'spam', 'spam', 'spam', 'spam', 'spam', 'spam', 'spam', 'spam', 'spam', 'spam', 'spam', 'spam', 'spam', 'spam', 'spam', 'spam', 'spam', 'spam', 'spam', 'spam', 'spam', 'spam', 'spam', 'spam', 'spam', 'spam', 'spam', 'spam', 'spam', 'spam', 'spam', 'spam', 'spam', 'spam', 'spam', 'spam', 'spam', 'spam', 'spam', 'spam', 'spam', 'spam', 'spam', 'spam', 'spam', 'spam', 'spam', 'spam', 'spam', 'spam', 'spam', 'spam', 'spam', 'spam', 'spam', 'spam', 'spam', 'spam', 'spam', 'spam', 'spam', 'spam', 'spam', 'spam', 'spam', 'spam', 'spam', 'spam', 'spam', 'spam', 'spam', 'spam', 'spam', 'spam', 'spam', 'spam', 'spam', 'spam', 'spam', 'spam', 'spam', 'spam', 'spam', 'spam', 'spam', 'spam', 'spam', 'spam', 'spam', 'spam', 'spam', 'spam', 'spam', 'spam', 'spam', 'spam', 'spam', 'spam', 'spam', 'spam', 'spam', 'spam', 'spam', 'spam', 'spam', 'spam', 'spam', 'spam', 'spam', 'spam', 'spam', 'spam', 'spam', 'spam', 'spam', 'spam', 'spam', 'spam', 'spam', 'spam', 'spam', 'spam', 'spam', 'spam', 'spam', 'spam', 'spam', 'spam', 'spam', 'spam', 'spam', 'spam', 'spam', 'spam', 'spam', 'spam', 'spam', 'spam', 'spam', 'spam', 'spam', 'spam', 'spam', 'spam', 'spam', 'spam', 'spam', 'spam', 'spam', 'spam', 'spam', 'spam', 'spam', 'spam', 'spam', 'spam', 'spam', 'spam', 'spam', 'spam', 'spam', 'spam', 'spam', 'spam', 'spam', 'spam', 'spam', 'spam', 'spam', 'spam', 'spam', 'spam', 'spam', 'spam', 'spam', 'spam', 'spam', 'spam', 'spam', 'spam', 'spam', 'spam', 'spam', 'spam', 'spam', 'spam', 'spam', 'spam', 'spam', 'spam', 'spam', 'spam', 'spam', 'spam', 'spam', 'spam', 'spam', 'spam', 'spam', 'spam', 'spam', 'spam', 'spam', 'spam', 'spam', 'spam', 'spam', 'spam', 'spam', 'spam', 'spam', 'spam', 'spam', 'spam', 'spam', 'spam', 'spam', 'spam', 'spam', 'spam', 'spam', 'spam', 'spam', 'spam', 'spam', 'spam', 'spam', 'spam', 'spam', 'spam', 'spam', 'spam', 'spam', 'spam', 'spam', 'spam', 'spam', 'spam', 'spam', 'spam', 'spam', 'spam', 'spam', 'spam', 'spam', 'spam', 'spam', 'spam', 'spam', 'spam', 'spam', 'spam', 'spam', 'spam', 'spam', 'spam', 'spam', 'spam', 'spam', 'spam', 'spam', 'spam', 'spam', 'spam', 'spam', 'spam', 'spam', 'spam', 'spam', 'spam', 'spam', 'spam', 'spam', 'spam', 'spam', 'spam', 'spam', 'spam', 'spam', 'spam', 'spam', 'spam', 'spam', 'spam', 'spam', 'spam', 'spam', 'spam', 'spam', 'spam', 'spam', 'spam', 'spam', 'spam', 'spam', 'spam', 'spam', 'spam', 'spam', 'spam', 'spam', 'spam', 'spam', 'spam', 'spam', 'spam', 'spam', 'spam', 'spam', 'spam', 'spam', 'spam', 'spam', 'spam', 'spam', 'spam', 'spam', 'spam', 'spam', 'spam', 'spam', 'spam', 'spam', 'spam', 'spam', 'spam', 'spam', 'spam', 'spam', 'spam', 'spam', 'spam', 'spam', 'spam', 'spam', 'spam', 'spam', 'spam', 'spam', 'spam', 'spam', 'spam', 'spam', 'spam', 'spam', 'spam', 'spam', 'spam', 'spam', 'spam', 'spam', 'spam', 'spam', 'spam', 'spam', 'spam', 'spam', 'spam', 'spam', 'spam', 'spam', 'spam', 'spam', 'spam', 'spam', 'spam', 'spam', 'spam', 'spam', 'spam', 'spam', 'spam', 'spam', 'spam', 'spam', 'spam', 'spam', 'spam', 'spam', 'spam', 'spam', 'spam', 'spam', 'spam', 'spam', 'spam', 'spam', 'spam', 'spam', 'spam', 'spam', 'spam', 'spam', 'spam', 'spam', 'spam', 'spam', 'spam', 'spam', 'spam', 'spam', 'spam', 'spam', 'spam', 'spam', 'spam', 'spam', 'spam', 'spam', 'spam', 'spam', 'spam', 'spam', 'spam', 'spam', 'spam', 'spam', 'spam', 'spam', 'spam', 'spam', 'spam', 'spam', 'spam', 'spam', 'spam', 'spam', 'spam', 'spam', 'spam', 'spam', 'spam', 'spam', 'spam', 'spam', 'spam', 'spam', 'spam', 'spam', 'spam', 'spam', 'spam', 'spam', 'spam', 'spam', 'spam', 'spam', 'spam', 'spam', 'spam', 'spam', 'spam', 'spam', 'spam', 'spam', 'spam', 'spam', 'spam', 'spam', 'spam', 'spam', 'spam', 'spam', 'spam', 'spam', 'spam', 'spam', 'spam', 'spam', 'spam', 'spam', 'spam', 'spam', 'spam', 'spam', 'spam', 'spam', 'spam', 'spam', 'spam', 'spam', 'spam', 'spam', 'spam', 'spam', 'spam', 'spam', 'spam', 'spam', 'spam', 'spam', 'spam', 'spam', 'spam', 'spam', 'spam', 'spam', 'spam', 'spam', 'spam', 'spam', 'spam', 'spam', 'spam', 'spam', 'spam', 'spam', 'spam', 'spam', 'spam', 'spam', 'spam', 'spam', 'spam', 'spam', 'spam', 'spam', 'spam', 'spam', 'spam', 'spam', 'spam', 'spam', 'spam', 'spam', 'spam', 'spam', 'spam', 'spam', 'spam', 'spam', 'spam', 'spam', 'spam', 'spam', 'spam', 'spam', 'spam', 'spam', 'spam', 'spam', 'spam', 'spam', 'spam', 'spam', 'spam', 'spam', 'spam', 'spam', 'spam', 'spam', 'spam', 'spam', 'spam', 'spam', 'spam', 'spam', 'spam', 'spam', 'spam', 'spam', 'spam', 'spam', 'spam', 'spam', 'spam', 'spam', 'spam', 'spam', 'spam', 'spam', 'spam', 'spam', 'spam', 'spam', 'spam', 'spam', 'spam', 'spam', 'spam', 'spam', 'spam', 'spam', 'spam', 'spam', 'spam', 'spam', 'spam', 'spam', 'spam', 'spam', 'spam', 'spam', 'spam', 'spam', 'spam', 'spam', 'spam', 'spam', 'spam', 'spam', 'spam', 'spam', 'spam', 'spam', 'spam', 'spam', 'spam', 'spam', 'spam', 'spam', 'spam', 'spam', 'spam', 'spam', 'spam', 'spam', 'spam', 'spam', 'spam', 'spam', 'spam', 'spam', 'spam', 'spam', 'spam', 'spam', 'spam', 'spam', 'spam', 'spam', 'spam', 'spam', 'spam', 'spam', 'spam', 'spam', 'spam', 'spam', 'spam', 'spam', 'spam', 'spam', 'spam', 'spam', 'spam', 'spam', 'spam', 'spam', 'spam', 'spam', 'spam', 'spam', 'spam', 'spam', 'spam', 'spam', 'spam', 'spam', 'spam', 'spam', 'spam', 'spam', 'spam', 'spam', 'spam', 'spam', 'spam', 'spam', 'spam', 'spam', 'spam', 'spam', 'spam', 'spam', 'spam', 'spam', 'spam', 'spam', 'spam', 'spam', 'spam', 'spam', 'spam', 'spam', 'spam', 'spam', 'spam', 'spam', 'spam', 'spam', 'spam', 'spam', 'spam', 'spam', 'spam', 'spam', 'spam', 'spam', 'spam', 'spam', 'spam', 'spam', 'spam', 'spam', 'spam', 'spam', 'spam', 'spam', 'spam', 'spam', 'spam', 'spam', 'spam', 'spam', 'spam', 'spam', 'spam', 'spam', 'spam', 'spam', 'spam', 'spam', 'spam', 'spam', 'spam', 'spam', 'spam', 'spam', 'spam', 'spam', 'spam', 'spam', 'spam', 'spam', 'spam', 'spam', 'spam', 'spam', 'spam', 'spam', 'spam', 'spam', 'spam', 'spam', 'spam', 'spam', 'spam', 'spam', 'spam', 'spam', 'spam', 'spam', 'spam', 'spam', 'spam', 'spam', 'spam', 'spam', 'spam', 'spam', 'spam', 'spam', 'spam', 'spam', 'spam', 'spam', 'spam', 'spam', 'spam', 'spam', 'spam', 'spam', 'spam', 'spam', 'spam', 'spam', 'spam', 'spam', 'spam', 'spam', 'spam', 'spam', 'spam', 'spam', 'spam', 'spam', 'spam', 'spam', 'spam', 'spam', 'spam', 'spam', 'spam', 'spam', 'spam', 'spam', 'spam', 'spam', 'spam', 'spam', 'spam', 'spam', 'spam', 'spam', 'spam', 'spam', 'spam', 'spam', 'spam', 'spam', 'spam', 'spam', 'spam', 'spam', 'spam', 'spam', 'spam', 'spam', 'spam', 'spam', 'spam', 'spam', 'spam', 'spam', 'spam', 'spam', 'spam', 'spam', 'spam', 'spam', 'spam', 'spam', 'spam', 'spam', 'spam', 'spam', 'spam', 'spam', 'spam', 'spam', 'spam', 'spam', 'spam', 'spam', 'spam', 'spam', 'spam', 'spam', 'spam', 'spam', 'spam', 'spam', 'spam', 'spam', 'spam', 'spam', 'spam', 'spam', 'spam', 'spam']\n"
     ]
    }
   ],
   "source": [
    "spams = [\"spam\"] * 1000\n",
    "print(spams)\n",
    "\n",
    "# Might be worth clearing output after running this!"
   ]
  },
  {
   "cell_type": "markdown",
   "id": "eac060f2-7a71-46e7-8235-b6ad0a76f5f8",
   "metadata": {},
   "source": [
    "# Using markdown\n",
    "\n",
    "So what's going on with these areas with writing in them, like this one? Well, there's actually a different kind of cell called a 'Markdown' cell for adding explanations like this. Click the + button to add a cell. Then in the toolbar, click where it says 'Code' and change it to 'Markdown'.\n",
    "\n",
    "Add some comments using Markdown format, perhaps copying and pasting from here:\n",
    "\n",
    "```\n",
    "# This is a heading\n",
    "## This is a sub-head\n",
    "### And a sub-sub-head\n",
    "\n",
    "I like Jupyter Lab because it's\n",
    "- Easy\n",
    "- Flexible\n",
    "- Satisfying\n",
    "```\n",
    "\n",
    "And to turn this into formatted text simply with Shift+Return in the cell.\n",
    "Click in the cell and press the Bin icon if you want to remove it."
   ]
  },
  {
   "cell_type": "markdown",
   "id": "6b059cac-5c8b-4c93-9c43-374b0e7f4832",
   "metadata": {},
   "source": []
  },
  {
   "cell_type": "markdown",
   "id": "1330c83c-67ac-4ca0-ac92-a71699e0c31b",
   "metadata": {},
   "source": [
    "# The exclamation point\n",
    "\n",
    "There's a super useful feature of jupyter labs; you can type a command with a ! in front of it in a code cell, like:\n",
    "\n",
    "!pip install \\[some_package\\]\n",
    "\n",
    "And it will run it at the command line (as if in Windows Powershell or Mac Terminal) and print the result"
   ]
  },
  {
   "cell_type": "code",
   "execution_count": 9,
   "id": "82042fc5-a907-4381-a4b8-eb9386df19cd",
   "metadata": {},
   "outputs": [
    {
     "name": "stdout",
     "output_type": "stream",
     "text": [
      "Guide to Jupyter.ipynb    day2 EXERCISE.ipynb       troubleshooting.ipynb\n",
      "Intermediate Python.ipynb day5.ipynb                week1 EXERCISE.ipynb\n",
      "\u001b[34mcommunity-contributions\u001b[m\u001b[m   diagnostics.py\n",
      "day1.ipynb                \u001b[34msolutions\u001b[m\u001b[m\n"
     ]
    }
   ],
   "source": [
    "# list the current directory\n",
    "\n",
    "!ls"
   ]
  },
  {
   "cell_type": "code",
   "execution_count": 10,
   "id": "4fc3e3da-8a55-40cc-9706-48bf12a0e20e",
   "metadata": {},
   "outputs": [
    {
     "name": "stdout",
     "output_type": "stream",
     "text": [
      "PING cnn.com (151.101.67.5): 56 data bytes\n",
      "64 bytes from 151.101.67.5: icmp_seq=0 ttl=58 time=25.194 ms\n",
      "64 bytes from 151.101.67.5: icmp_seq=1 ttl=58 time=25.368 ms\n",
      "64 bytes from 151.101.67.5: icmp_seq=2 ttl=58 time=27.467 ms\n",
      "64 bytes from 151.101.67.5: icmp_seq=3 ttl=58 time=30.024 ms\n",
      "64 bytes from 151.101.67.5: icmp_seq=4 ttl=58 time=27.967 ms\n",
      "64 bytes from 151.101.67.5: icmp_seq=5 ttl=58 time=28.812 ms\n",
      "64 bytes from 151.101.67.5: icmp_seq=6 ttl=58 time=25.387 ms\n",
      "64 bytes from 151.101.67.5: icmp_seq=7 ttl=58 time=25.691 ms\n",
      "64 bytes from 151.101.67.5: icmp_seq=8 ttl=58 time=27.973 ms\n",
      "64 bytes from 151.101.67.5: icmp_seq=9 ttl=58 time=39.254 ms\n",
      "64 bytes from 151.101.67.5: icmp_seq=10 ttl=58 time=25.122 ms\n",
      "64 bytes from 151.101.67.5: icmp_seq=11 ttl=58 time=28.710 ms\n",
      "64 bytes from 151.101.67.5: icmp_seq=12 ttl=58 time=29.542 ms\n",
      "64 bytes from 151.101.67.5: icmp_seq=13 ttl=58 time=28.908 ms\n",
      "64 bytes from 151.101.67.5: icmp_seq=14 ttl=58 time=27.975 ms\n",
      "64 bytes from 151.101.67.5: icmp_seq=15 ttl=58 time=28.938 ms\n",
      "64 bytes from 151.101.67.5: icmp_seq=16 ttl=58 time=28.487 ms\n",
      "64 bytes from 151.101.67.5: icmp_seq=17 ttl=58 time=30.050 ms\n",
      "64 bytes from 151.101.67.5: icmp_seq=18 ttl=58 time=27.046 ms\n",
      "64 bytes from 151.101.67.5: icmp_seq=19 ttl=58 time=26.153 ms\n",
      "64 bytes from 151.101.67.5: icmp_seq=20 ttl=58 time=27.264 ms\n",
      "64 bytes from 151.101.67.5: icmp_seq=21 ttl=58 time=28.105 ms\n",
      "64 bytes from 151.101.67.5: icmp_seq=22 ttl=58 time=28.128 ms\n",
      "64 bytes from 151.101.67.5: icmp_seq=23 ttl=58 time=35.437 ms\n",
      "64 bytes from 151.101.67.5: icmp_seq=24 ttl=58 time=27.653 ms\n",
      "64 bytes from 151.101.67.5: icmp_seq=25 ttl=58 time=25.146 ms\n",
      "64 bytes from 151.101.67.5: icmp_seq=26 ttl=58 time=31.677 ms\n",
      "64 bytes from 151.101.67.5: icmp_seq=27 ttl=58 time=26.575 ms\n",
      "64 bytes from 151.101.67.5: icmp_seq=28 ttl=58 time=28.583 ms\n",
      "64 bytes from 151.101.67.5: icmp_seq=29 ttl=58 time=25.224 ms\n",
      "64 bytes from 151.101.67.5: icmp_seq=30 ttl=58 time=25.434 ms\n",
      "64 bytes from 151.101.67.5: icmp_seq=31 ttl=58 time=28.602 ms\n",
      "64 bytes from 151.101.67.5: icmp_seq=32 ttl=58 time=45.222 ms\n",
      "64 bytes from 151.101.67.5: icmp_seq=33 ttl=58 time=29.759 ms\n",
      "64 bytes from 151.101.67.5: icmp_seq=34 ttl=58 time=24.596 ms\n",
      "64 bytes from 151.101.67.5: icmp_seq=35 ttl=58 time=25.136 ms\n",
      "64 bytes from 151.101.67.5: icmp_seq=36 ttl=58 time=29.304 ms\n",
      "64 bytes from 151.101.67.5: icmp_seq=37 ttl=58 time=29.658 ms\n",
      "64 bytes from 151.101.67.5: icmp_seq=38 ttl=58 time=27.094 ms\n",
      "64 bytes from 151.101.67.5: icmp_seq=39 ttl=58 time=26.618 ms\n",
      "64 bytes from 151.101.67.5: icmp_seq=40 ttl=58 time=28.649 ms\n",
      "64 bytes from 151.101.67.5: icmp_seq=41 ttl=58 time=30.977 ms\n",
      "64 bytes from 151.101.67.5: icmp_seq=42 ttl=58 time=26.061 ms\n",
      "64 bytes from 151.101.67.5: icmp_seq=43 ttl=58 time=29.801 ms\n",
      "64 bytes from 151.101.67.5: icmp_seq=44 ttl=58 time=26.941 ms\n",
      "64 bytes from 151.101.67.5: icmp_seq=45 ttl=58 time=32.272 ms\n",
      "64 bytes from 151.101.67.5: icmp_seq=46 ttl=58 time=25.424 ms\n",
      "64 bytes from 151.101.67.5: icmp_seq=47 ttl=58 time=29.702 ms\n",
      "64 bytes from 151.101.67.5: icmp_seq=48 ttl=58 time=25.321 ms\n",
      "64 bytes from 151.101.67.5: icmp_seq=49 ttl=58 time=28.849 ms\n",
      "64 bytes from 151.101.67.5: icmp_seq=50 ttl=58 time=30.525 ms\n",
      "64 bytes from 151.101.67.5: icmp_seq=51 ttl=58 time=27.711 ms\n",
      "64 bytes from 151.101.67.5: icmp_seq=52 ttl=58 time=35.842 ms\n",
      "64 bytes from 151.101.67.5: icmp_seq=53 ttl=58 time=30.011 ms\n",
      "64 bytes from 151.101.67.5: icmp_seq=54 ttl=58 time=29.115 ms\n",
      "64 bytes from 151.101.67.5: icmp_seq=55 ttl=58 time=24.970 ms\n",
      "64 bytes from 151.101.67.5: icmp_seq=56 ttl=58 time=25.295 ms\n",
      "64 bytes from 151.101.67.5: icmp_seq=57 ttl=58 time=26.656 ms\n",
      "64 bytes from 151.101.67.5: icmp_seq=58 ttl=58 time=24.968 ms\n",
      "64 bytes from 151.101.67.5: icmp_seq=59 ttl=58 time=31.394 ms\n",
      "64 bytes from 151.101.67.5: icmp_seq=60 ttl=58 time=39.243 ms\n",
      "64 bytes from 151.101.67.5: icmp_seq=61 ttl=58 time=24.862 ms\n",
      "64 bytes from 151.101.67.5: icmp_seq=62 ttl=58 time=25.164 ms\n",
      "64 bytes from 151.101.67.5: icmp_seq=63 ttl=58 time=31.655 ms\n",
      "64 bytes from 151.101.67.5: icmp_seq=64 ttl=58 time=27.534 ms\n",
      "64 bytes from 151.101.67.5: icmp_seq=65 ttl=58 time=29.906 ms\n",
      "64 bytes from 151.101.67.5: icmp_seq=66 ttl=58 time=55.424 ms\n",
      "64 bytes from 151.101.67.5: icmp_seq=67 ttl=58 time=25.196 ms\n",
      "64 bytes from 151.101.67.5: icmp_seq=68 ttl=58 time=25.216 ms\n",
      "64 bytes from 151.101.67.5: icmp_seq=69 ttl=58 time=28.601 ms\n",
      "64 bytes from 151.101.67.5: icmp_seq=70 ttl=58 time=28.163 ms\n",
      "64 bytes from 151.101.67.5: icmp_seq=71 ttl=58 time=29.108 ms\n",
      "64 bytes from 151.101.67.5: icmp_seq=72 ttl=58 time=27.320 ms\n",
      "^C\n",
      "\n",
      "--- cnn.com ping statistics ---\n",
      "73 packets transmitted, 73 packets received, 0.0% packet loss\n",
      "round-trip min/avg/max/stddev = 24.596/28.865/55.424/4.745 ms\n"
     ]
    }
   ],
   "source": [
    "# ping cnn.com - press the stop button in the toolbar when you're bored\n",
    "\n",
    "!ping cnn.com"
   ]
  },
  {
   "cell_type": "code",
   "execution_count": 11,
   "id": "a58e9462-89a2-4b4f-b4aa-51c4bd9f796b",
   "metadata": {},
   "outputs": [
    {
     "name": "stdout",
     "output_type": "stream",
     "text": [
      "Channels:\n",
      " - conda-forge\n",
      " - defaults\n",
      "Platform: osx-arm64\n",
      "doneecting package metadata (repodata.json): - \n",
      "doneing environment: - \n",
      "Ran pip subprocess with arguments:\n",
      "['/opt/anaconda3/envs/llm/bin/python', '-m', 'pip', 'install', '-U', '-r', '/Users/japneetsingh/Documents/study/llm_engineering/condaenv.z7iy8fho.requirements.txt', '--exists-action=b']\n",
      "Pip subprocess output:\n",
      "Requirement already satisfied: beautifulsoup4 in /opt/anaconda3/envs/llm/lib/python3.11/site-packages (from -r /Users/japneetsingh/Documents/study/llm_engineering/condaenv.z7iy8fho.requirements.txt (line 1)) (4.13.3)\n",
      "Requirement already satisfied: plotly in /opt/anaconda3/envs/llm/lib/python3.11/site-packages (from -r /Users/japneetsingh/Documents/study/llm_engineering/condaenv.z7iy8fho.requirements.txt (line 2)) (6.0.0)\n",
      "Requirement already satisfied: bitsandbytes in /opt/anaconda3/envs/llm/lib/python3.11/site-packages (from -r /Users/japneetsingh/Documents/study/llm_engineering/condaenv.z7iy8fho.requirements.txt (line 3)) (0.42.0)\n",
      "ents/study/llm_engineering/condaenv.z7iy8fho.requirements.txt (line 4)) (4.49.0)n3.11/site-packages (from -r /Users/japneetsingh/Docum\n",
      "Requirement already satisfied: sentence-transformers in /opt/anaconda3/envs/llm/lib/python3.11/site-packages (from -r /Users/japneetsingh/Documents/study/llm_engineering/condaenv.z7iy8fho.requirements.txt (line 5)) (3.4.1)\n",
      "Requirement already satisfied: datasets in /opt/anaconda3/envs/llm/lib/python3.11/site-packages (from -r /Users/japneetsingh/Documents/study/llm_engineering/condaenv.z7iy8fho.requirements.txt (line 6)) (3.3.2)\n",
      "Requirement already satisfied: accelerate in /opt/anaconda3/envs/llm/lib/python3.11/site-packages (from -r /Users/japneetsingh/Documents/study/llm_engineering/condaenv.z7iy8fho.requirements.txt (line 7)) (1.4.0)\n",
      "Requirement already satisfied: openai in /opt/anaconda3/envs/llm/lib/python3.11/site-packages (from -r /Users/japneetsingh/Documents/study/llm_engineering/condaenv.z7iy8fho.requirements.txt (line 8)) (1.64.0)\n",
      "Requirement already satisfied: anthropic in /opt/anaconda3/envs/llm/lib/python3.11/site-packages (from -r /Users/japneetsingh/Documents/study/llm_engineering/condaenv.z7iy8fho.requirements.txt (line 9)) (0.47.2)\n",
      "Requirement already satisfied: google-generativeai in /opt/anaconda3/envs/llm/lib/python3.11/site-packages (from -r /Users/japneetsingh/Documents/study/llm_engineering/condaenv.z7iy8fho.requirements.txt (line 10)) (0.8.4)\n",
      "Requirement already satisfied: gradio in /opt/anaconda3/envs/llm/lib/python3.11/site-packages (from -r /Users/japneetsingh/Documents/study/llm_engineering/condaenv.z7iy8fho.requirements.txt (line 11)) (5.18.0)\n",
      "Requirement already satisfied: gensim in /opt/anaconda3/envs/llm/lib/python3.11/site-packages (from -r /Users/japneetsingh/Documents/study/llm_engineering/condaenv.z7iy8fho.requirements.txt (line 12)) (4.3.3)\n",
      "Requirement already satisfied: modal in /opt/anaconda3/envs/llm/lib/python3.11/site-packages (from -r /Users/japneetsingh/Documents/study/llm_engineering/condaenv.z7iy8fho.requirements.txt (line 13)) (0.73.71)\n",
      "Requirement already satisfied: ollama in /opt/anaconda3/envs/llm/lib/python3.11/site-packages (from -r /Users/japneetsingh/Documents/study/llm_engineering/condaenv.z7iy8fho.requirements.txt (line 14)) (0.4.7)\n",
      "Requirement already satisfied: psutil in /opt/anaconda3/envs/llm/lib/python3.11/site-packages (from -r /Users/japneetsingh/Documents/study/llm_engineering/condaenv.z7iy8fho.requirements.txt (line 15)) (7.0.0)\n",
      "Requirement already satisfied: setuptools in /opt/anaconda3/envs/llm/lib/python3.11/site-packages (from -r /Users/japneetsingh/Documents/study/llm_engineering/condaenv.z7iy8fho.requirements.txt (line 16)) (75.8.1)\n",
      "Requirement already satisfied: speedtest-cli in /opt/anaconda3/envs/llm/lib/python3.11/site-packages (from -r /Users/japneetsingh/Documents/study/llm_engineering/condaenv.z7iy8fho.requirements.txt (line 17)) (2.1.3)\n",
      "Requirement already satisfied: langchain in /opt/anaconda3/envs/llm/lib/python3.11/site-packages (from -r /Users/japneetsingh/Documents/study/llm_engineering/condaenv.z7iy8fho.requirements.txt (line 18)) (0.3.19)\n",
      "Requirement already satisfied: langchain-core in /opt/anaconda3/envs/llm/lib/python3.11/site-packages (from -r /Users/japneetsingh/Documents/study/llm_engineering/condaenv.z7iy8fho.requirements.txt (line 19)) (0.3.40)\n",
      "Requirement already satisfied: langchain-text-splitters in /opt/anaconda3/envs/llm/lib/python3.11/site-packages (from -r /Users/japneetsingh/Documents/study/llm_engineering/condaenv.z7iy8fho.requirements.txt (line 20)) (0.3.6)\n",
      "Requirement already satisfied: langchain-openai in /opt/anaconda3/envs/llm/lib/python3.11/site-packages (from -r /Users/japneetsingh/Documents/study/llm_engineering/condaenv.z7iy8fho.requirements.txt (line 21)) (0.3.7)\n",
      "Requirement already satisfied: langchain-chroma in /opt/anaconda3/envs/llm/lib/python3.11/site-packages (from -r /Users/japneetsingh/Documents/study/llm_engineering/condaenv.z7iy8fho.requirements.txt (line 22)) (0.2.2)\n",
      "Requirement already satisfied: langchain-community in /opt/anaconda3/envs/llm/lib/python3.11/site-packages (from -r /Users/japneetsingh/Documents/study/llm_engineering/condaenv.z7iy8fho.requirements.txt (line 23)) (0.3.18)\n",
      "Requirement already satisfied: faiss-cpu in /opt/anaconda3/envs/llm/lib/python3.11/site-packages (from -r /Users/japneetsingh/Documents/study/llm_engineering/condaenv.z7iy8fho.requirements.txt (line 24)) (1.10.0)\n",
      "Requirement already satisfied: feedparser in /opt/anaconda3/envs/llm/lib/python3.11/site-packages (from -r /Users/japneetsingh/Documents/study/llm_engineering/condaenv.z7iy8fho.requirements.txt (line 25)) (6.0.11)\n",
      "Requirement already satisfied: twilio in /opt/anaconda3/envs/llm/lib/python3.11/site-packages (from -r /Users/japneetsingh/Documents/study/llm_engineering/condaenv.z7iy8fho.requirements.txt (line 26)) (9.4.6)\n",
      "Requirement already satisfied: pydub in /opt/anaconda3/envs/llm/lib/python3.11/site-packages (from -r /Users/japneetsingh/Documents/study/llm_engineering/condaenv.z7iy8fho.requirements.txt (line 27)) (0.25.1)\n",
      "Requirement already satisfied: soupsieve>1.2 in /opt/anaconda3/envs/llm/lib/python3.11/site-packages (from beautifulsoup4->-r /Users/japneetsingh/Documents/study/llm_engineering/condaenv.z7iy8fho.requirements.txt (line 1)) (2.5)\n",
      "Requirement already satisfied: typing-extensions>=4.0.0 in /opt/anaconda3/envs/llm/lib/python3.11/site-packages (from beautifulsoup4->-r /Users/japneetsingh/Documents/study/llm_engineering/condaenv.z7iy8fho.requirements.txt (line 1)) (4.12.2)\n",
      "Requirement already satisfied: narwhals>=1.15.1 in /opt/anaconda3/envs/llm/lib/python3.11/site-packages (from plotly->-r /Users/japneetsingh/Documents/study/llm_engineering/condaenv.z7iy8fho.requirements.txt (line 2)) (1.27.1)\n",
      "Requirement already satisfied: packaging in /opt/anaconda3/envs/llm/lib/python3.11/site-packages (from plotly->-r /Users/japneetsingh/Documents/study/llm_engineering/condaenv.z7iy8fho.requirements.txt (line 2)) (24.2)\n",
      "Requirement already satisfied: scipy in /opt/anaconda3/envs/llm/lib/python3.11/site-packages (from bitsandbytes->-r /Users/japneetsingh/Documents/study/llm_engineering/condaenv.z7iy8fho.requirements.txt (line 3)) (1.13.1)\n",
      "Requirement already satisfied: filelock in /opt/anaconda3/envs/llm/lib/python3.11/site-packages (from transformers->-r /Users/japneetsingh/Documents/study/llm_engineering/condaenv.z7iy8fho.requirements.txt (line 4)) (3.17.0)\n",
      "Requirement already satisfied: huggingface-hub<1.0,>=0.26.0 in /opt/anaconda3/envs/llm/lib/python3.11/site-packages (from transformers->-r /Users/japneetsingh/Documents/study/llm_engineering/condaenv.z7iy8fho.requirements.txt (line 4)) (0.29.1)\n",
      "Requirement already satisfied: numpy>=1.17 in /opt/anaconda3/envs/llm/lib/python3.11/site-packages (from transformers->-r /Users/japneetsingh/Documents/study/llm_engineering/condaenv.z7iy8fho.requirements.txt (line 4)) (1.26.4)\n",
      "Requirement already satisfied: pyyaml>=5.1 in /opt/anaconda3/envs/llm/lib/python3.11/site-packages (from transformers->-r /Users/japneetsingh/Documents/study/llm_engineering/condaenv.z7iy8fho.requirements.txt (line 4)) (6.0.2)\n",
      "Requirement already satisfied: regex!=2019.12.17 in /opt/anaconda3/envs/llm/lib/python3.11/site-packages (from transformers->-r /Users/japneetsingh/Documents/study/llm_engineering/condaenv.z7iy8fho.requirements.txt (line 4)) (2024.11.6)\n",
      "Requirement already satisfied: requests in /opt/anaconda3/envs/llm/lib/python3.11/site-packages (from transformers->-r /Users/japneetsingh/Documents/study/llm_engineering/condaenv.z7iy8fho.requirements.txt (line 4)) (2.32.3)\n",
      "Requirement already satisfied: tokenizers<0.22,>=0.21 in /opt/anaconda3/envs/llm/lib/python3.11/site-packages (from transformers->-r /Users/japneetsingh/Documents/study/llm_engineering/condaenv.z7iy8fho.requirements.txt (line 4)) (0.21.0)\n",
      "Requirement already satisfied: safetensors>=0.4.1 in /opt/anaconda3/envs/llm/lib/python3.11/site-packages (from transformers->-r /Users/japneetsingh/Documents/study/llm_engineering/condaenv.z7iy8fho.requirements.txt (line 4)) (0.5.2)\n",
      "Requirement already satisfied: tqdm>=4.27 in /opt/anaconda3/envs/llm/lib/python3.11/site-packages (from transformers->-r /Users/japneetsingh/Documents/study/llm_engineering/condaenv.z7iy8fho.requirements.txt (line 4)) (4.67.1)\n",
      "Requirement already satisfied: torch>=1.11.0 in /opt/anaconda3/envs/llm/lib/python3.11/site-packages (from sentence-transformers->-r /Users/japneetsingh/Documents/study/llm_engineering/condaenv.z7iy8fho.requirements.txt (line 5)) (2.6.0)\n",
      "Requirement already satisfied: scikit-learn in /opt/anaconda3/envs/llm/lib/python3.11/site-packages (from sentence-transformers->-r /Users/japneetsingh/Documents/study/llm_engineering/condaenv.z7iy8fho.requirements.txt (line 5)) (1.6.1)\n",
      "Requirement already satisfied: Pillow in /opt/anaconda3/envs/llm/lib/python3.11/site-packages (from sentence-transformers->-r /Users/japneetsingh/Documents/study/llm_engineering/condaenv.z7iy8fho.requirements.txt (line 5)) (11.1.0)\n",
      "Requirement already satisfied: pyarrow>=15.0.0 in /opt/anaconda3/envs/llm/lib/python3.11/site-packages (from datasets->-r /Users/japneetsingh/Documents/study/llm_engineering/condaenv.z7iy8fho.requirements.txt (line 6)) (19.0.1)\n",
      "Requirement already satisfied: dill<0.3.9,>=0.3.0 in /opt/anaconda3/envs/llm/lib/python3.11/site-packages (from datasets->-r /Users/japneetsingh/Documents/study/llm_engineering/condaenv.z7iy8fho.requirements.txt (line 6)) (0.3.8)\n",
      "Requirement already satisfied: pandas in /opt/anaconda3/envs/llm/lib/python3.11/site-packages (from datasets->-r /Users/japneetsingh/Documents/study/llm_engineering/condaenv.z7iy8fho.requirements.txt (line 6)) (2.2.3)\n",
      "Requirement already satisfied: xxhash in /opt/anaconda3/envs/llm/lib/python3.11/site-packages (from datasets->-r /Users/japneetsingh/Documents/study/llm_engineering/condaenv.z7iy8fho.requirements.txt (line 6)) (3.5.0)\n",
      "Requirement already satisfied: multiprocess<0.70.17 in /opt/anaconda3/envs/llm/lib/python3.11/site-packages (from datasets->-r /Users/japneetsingh/Documents/study/llm_engineering/condaenv.z7iy8fho.requirements.txt (line 6)) (0.70.16)\n",
      "Requirement already satisfied: fsspec<=2024.12.0,>=2023.1.0 in /opt/anaconda3/envs/llm/lib/python3.11/site-packages (from fsspec[http]<=2024.12.0,>=2023.1.0->datasets->-r /Users/japneetsingh/Documents/study/llm_engineering/condaenv.z7iy8fho.requirements.txt (line 6)) (2024.12.0)\n",
      "Requirement already satisfied: aiohttp in /opt/anaconda3/envs/llm/lib/python3.11/site-packages (from datasets->-r /Users/japneetsingh/Documents/study/llm_engineering/condaenv.z7iy8fho.requirements.txt (line 6)) (3.11.13)\n",
      "Requirement already satisfied: anyio<5,>=3.5.0 in /opt/anaconda3/envs/llm/lib/python3.11/site-packages (from openai->-r /Users/japneetsingh/Documents/study/llm_engineering/condaenv.z7iy8fho.requirements.txt (line 8)) (4.8.0)\n",
      "Requirement already satisfied: distro<2,>=1.7.0 in /opt/anaconda3/envs/llm/lib/python3.11/site-packages (from openai->-r /Users/japneetsingh/Documents/study/llm_engineering/condaenv.z7iy8fho.requirements.txt (line 8)) (1.9.0)\n",
      "Requirement already satisfied: httpx<1,>=0.23.0 in /opt/anaconda3/envs/llm/lib/python3.11/site-packages (from openai->-r /Users/japneetsingh/Documents/study/llm_engineering/condaenv.z7iy8fho.requirements.txt (line 8)) (0.28.1)\n",
      "Requirement already satisfied: jiter<1,>=0.4.0 in /opt/anaconda3/envs/llm/lib/python3.11/site-packages (from openai->-r /Users/japneetsingh/Documents/study/llm_engineering/condaenv.z7iy8fho.requirements.txt (line 8)) (0.8.2)\n",
      "Requirement already satisfied: pydantic<3,>=1.9.0 in /opt/anaconda3/envs/llm/lib/python3.11/site-packages (from openai->-r /Users/japneetsingh/Documents/study/llm_engineering/condaenv.z7iy8fho.requirements.txt (line 8)) (2.10.6)\n",
      "Requirement already satisfied: sniffio in /opt/anaconda3/envs/llm/lib/python3.11/site-packages (from openai->-r /Users/japneetsingh/Documents/study/llm_engineering/condaenv.z7iy8fho.requirements.txt (line 8)) (1.3.1)\n",
      "Requirement already satisfied: google-ai-generativelanguage==0.6.15 in /opt/anaconda3/envs/llm/lib/python3.11/site-packages (from google-generativeai->-r /Users/japneetsingh/Documents/study/llm_engineering/condaenv.z7iy8fho.requirements.txt (line 10)) (0.6.15)\n",
      "Requirement already satisfied: google-api-core in /opt/anaconda3/envs/llm/lib/python3.11/site-packages (from google-generativeai->-r /Users/japneetsingh/Documents/study/llm_engineering/condaenv.z7iy8fho.requirements.txt (line 10)) (2.24.1)\n",
      "Requirement already satisfied: google-api-python-client in /opt/anaconda3/envs/llm/lib/python3.11/site-packages (from google-generativeai->-r /Users/japneetsingh/Documents/study/llm_engineering/condaenv.z7iy8fho.requirements.txt (line 10)) (2.162.0)\n",
      "Requirement already satisfied: google-auth>=2.15.0 in /opt/anaconda3/envs/llm/lib/python3.11/site-packages (from google-generativeai->-r /Users/japneetsingh/Documents/study/llm_engineering/condaenv.z7iy8fho.requirements.txt (line 10)) (2.38.0)\n",
      "Requirement already satisfied: protobuf in /opt/anaconda3/envs/llm/lib/python3.11/site-packages (from google-generativeai->-r /Users/japneetsingh/Documents/study/llm_engineering/condaenv.z7iy8fho.requirements.txt (line 10)) (5.28.3)\n",
      "Requirement already satisfied: proto-plus<2.0.0dev,>=1.22.3 in /opt/anaconda3/envs/llm/lib/python3.11/site-packages (from google-ai-generativelanguage==0.6.15->google-generativeai->-r /Users/japneetsingh/Documents/study/llm_engineering/condaenv.z7iy8fho.requirements.txt (line 10)) (1.26.0)\n",
      "Requirement already satisfied: aiofiles<24.0,>=22.0 in /opt/anaconda3/envs/llm/lib/python3.11/site-packages (from gradio->-r /Users/japneetsingh/Documents/study/llm_engineering/condaenv.z7iy8fho.requirements.txt (line 11)) (23.2.1)\n",
      "Requirement already satisfied: fastapi<1.0,>=0.115.2 in /opt/anaconda3/envs/llm/lib/python3.11/site-packages (from gradio->-r /Users/japneetsingh/Documents/study/llm_engineering/condaenv.z7iy8fho.requirements.txt (line 11)) (0.115.8)\n",
      "Requirement already satisfied: ffmpy in /opt/anaconda3/envs/llm/lib/python3.11/site-packages (from gradio->-r /Users/japneetsingh/Documents/study/llm_engineering/condaenv.z7iy8fho.requirements.txt (line 11)) (0.5.0)\n",
      "Requirement already satisfied: gradio-client==1.7.2 in /opt/anaconda3/envs/llm/lib/python3.11/site-packages (from gradio->-r /Users/japneetsingh/Documents/study/llm_engineering/condaenv.z7iy8fho.requirements.txt (line 11)) (1.7.2)\n",
      "Requirement already satisfied: jinja2<4.0 in /opt/anaconda3/envs/llm/lib/python3.11/site-packages (from gradio->-r /Users/japneetsingh/Documents/study/llm_engineering/condaenv.z7iy8fho.requirements.txt (line 11)) (3.1.5)\n",
      "Requirement already satisfied: markupsafe~=2.0 in /opt/anaconda3/envs/llm/lib/python3.11/site-packages (from gradio->-r /Users/japneetsingh/Documents/study/llm_engineering/condaenv.z7iy8fho.requirements.txt (line 11)) (2.1.5)\n",
      "Requirement already satisfied: orjson~=3.0 in /opt/anaconda3/envs/llm/lib/python3.11/site-packages (from gradio->-r /Users/japneetsingh/Documents/study/llm_engineering/condaenv.z7iy8fho.requirements.txt (line 11)) (3.10.15)\n",
      "Requirement already satisfied: python-multipart>=0.0.18 in /opt/anaconda3/envs/llm/lib/python3.11/site-packages (from gradio->-r /Users/japneetsingh/Documents/study/llm_engineering/condaenv.z7iy8fho.requirements.txt (line 11)) (0.0.20)\n",
      "Requirement already satisfied: ruff>=0.9.3 in /opt/anaconda3/envs/llm/lib/python3.11/site-packages (from gradio->-r /Users/japneetsingh/Documents/study/llm_engineering/condaenv.z7iy8fho.requirements.txt (line 11)) (0.9.7)\n",
      "Requirement already satisfied: safehttpx<0.2.0,>=0.1.6 in /opt/anaconda3/envs/llm/lib/python3.11/site-packages (from gradio->-r /Users/japneetsingh/Documents/study/llm_engineering/condaenv.z7iy8fho.requirements.txt (line 11)) (0.1.6)\n",
      "Requirement already satisfied: semantic-version~=2.0 in /opt/anaconda3/envs/llm/lib/python3.11/site-packages (from gradio->-r /Users/japneetsingh/Documents/study/llm_engineering/condaenv.z7iy8fho.requirements.txt (line 11)) (2.10.0)\n",
      "Requirement already satisfied: starlette<1.0,>=0.40.0 in /opt/anaconda3/envs/llm/lib/python3.11/site-packages (from gradio->-r /Users/japneetsingh/Documents/study/llm_engineering/condaenv.z7iy8fho.requirements.txt (line 11)) (0.45.3)\n",
      "Requirement already satisfied: tomlkit<0.14.0,>=0.12.0 in /opt/anaconda3/envs/llm/lib/python3.11/site-packages (from gradio->-r /Users/japneetsingh/Documents/study/llm_engineering/condaenv.z7iy8fho.requirements.txt (line 11)) (0.13.2)\n",
      "Requirement already satisfied: typer<1.0,>=0.12 in /opt/anaconda3/envs/llm/lib/python3.11/site-packages (from gradio->-r /Users/japneetsingh/Documents/study/llm_engineering/condaenv.z7iy8fho.requirements.txt (line 11)) (0.15.1)\n",
      "Requirement already satisfied: uvicorn>=0.14.0 in /opt/anaconda3/envs/llm/lib/python3.11/site-packages (from gradio->-r /Users/japneetsingh/Documents/study/llm_engineering/condaenv.z7iy8fho.requirements.txt (line 11)) (0.34.0)\n",
      "Requirement already satisfied: websockets<16.0,>=10.0 in /opt/anaconda3/envs/llm/lib/python3.11/site-packages (from gradio-client==1.7.2->gradio->-r /Users/japneetsingh/Documents/study/llm_engineering/condaenv.z7iy8fho.requirements.txt (line 11)) (15.0)\n",
      "Requirement already satisfied: smart-open>=1.8.1 in /opt/anaconda3/envs/llm/lib/python3.11/site-packages (from gensim->-r /Users/japneetsingh/Documents/study/llm_engineering/condaenv.z7iy8fho.requirements.txt (line 12)) (7.1.0)\n",
      "Requirement already satisfied: certifi in /opt/anaconda3/envs/llm/lib/python3.11/site-packages (from modal->-r /Users/japneetsingh/Documents/study/llm_engineering/condaenv.z7iy8fho.requirements.txt (line 13)) (2025.1.31)\n",
      "Requirement already satisfied: click>=8.1.0 in /opt/anaconda3/envs/llm/lib/python3.11/site-packages (from modal->-r /Users/japneetsingh/Documents/study/llm_engineering/condaenv.z7iy8fho.requirements.txt (line 13)) (8.1.8)\n",
      "Requirement already satisfied: grpclib==0.4.7 in /opt/anaconda3/envs/llm/lib/python3.11/site-packages (from modal->-r /Users/japneetsingh/Documents/study/llm_engineering/condaenv.z7iy8fho.requirements.txt (line 13)) (0.4.7)\n",
      "Requirement already satisfied: rich>=12.0.0 in /opt/anaconda3/envs/llm/lib/python3.11/site-packages (from modal->-r /Users/japneetsingh/Documents/study/llm_engineering/condaenv.z7iy8fho.requirements.txt (line 13)) (13.9.4)\n",
      "Requirement already satisfied: synchronicity~=0.9.10 in /opt/anaconda3/envs/llm/lib/python3.11/site-packages (from modal->-r /Users/japneetsingh/Documents/study/llm_engineering/condaenv.z7iy8fho.requirements.txt (line 13)) (0.9.11)\n",
      "Requirement already satisfied: toml in /opt/anaconda3/envs/llm/lib/python3.11/site-packages (from modal->-r /Users/japneetsingh/Documents/study/llm_engineering/condaenv.z7iy8fho.requirements.txt (line 13)) (0.10.2)\n",
      "Requirement already satisfied: types-certifi in /opt/anaconda3/envs/llm/lib/python3.11/site-packages (from modal->-r /Users/japneetsingh/Documents/study/llm_engineering/condaenv.z7iy8fho.requirements.txt (line 13)) (2021.10.8.3)\n",
      "Requirement already satisfied: types-toml in /opt/anaconda3/envs/llm/lib/python3.11/site-packages (from modal->-r /Users/japneetsingh/Documents/study/llm_engineering/condaenv.z7iy8fho.requirements.txt (line 13)) (0.10.8.20240310)\n",
      "Requirement already satisfied: watchfiles in /opt/anaconda3/envs/llm/lib/python3.11/site-packages (from modal->-r /Users/japneetsingh/Documents/study/llm_engineering/condaenv.z7iy8fho.requirements.txt (line 13)) (1.0.4)\n",
      "Requirement already satisfied: h2<5,>=3.1.0 in /opt/anaconda3/envs/llm/lib/python3.11/site-packages (from grpclib==0.4.7->modal->-r /Users/japneetsingh/Documents/study/llm_engineering/condaenv.z7iy8fho.requirements.txt (line 13)) (4.2.0)\n",
      "Requirement already satisfied: multidict in /opt/anaconda3/envs/llm/lib/python3.11/site-packages (from grpclib==0.4.7->modal->-r /Users/japneetsingh/Documents/study/llm_engineering/condaenv.z7iy8fho.requirements.txt (line 13)) (6.1.0)\n",
      "Requirement already satisfied: langsmith<0.4,>=0.1.17 in /opt/anaconda3/envs/llm/lib/python3.11/site-packages (from langchain->-r /Users/japneetsingh/Documents/study/llm_engineering/condaenv.z7iy8fho.requirements.txt (line 18)) (0.3.11)\n",
      "Requirement already satisfied: SQLAlchemy<3,>=1.4 in /opt/anaconda3/envs/llm/lib/python3.11/site-packages (from langchain->-r /Users/japneetsingh/Documents/study/llm_engineering/condaenv.z7iy8fho.requirements.txt (line 18)) (2.0.38)\n",
      "Requirement already satisfied: tenacity!=8.4.0,<10,>=8.1.0 in /opt/anaconda3/envs/llm/lib/python3.11/site-packages (from langchain->-r /Users/japneetsingh/Documents/study/llm_engineering/condaenv.z7iy8fho.requirements.txt (line 18)) (9.0.0)\n",
      "Requirement already satisfied: jsonpatch<2.0,>=1.33 in /opt/anaconda3/envs/llm/lib/python3.11/site-packages (from langchain-core->-r /Users/japneetsingh/Documents/study/llm_engineering/condaenv.z7iy8fho.requirements.txt (line 19)) (1.33)\n",
      "Requirement already satisfied: tiktoken<1,>=0.7 in /opt/anaconda3/envs/llm/lib/python3.11/site-packages (from langchain-openai->-r /Users/japneetsingh/Documents/study/llm_engineering/condaenv.z7iy8fho.requirements.txt (line 21)) (0.9.0)\n",
      "Requirement already satisfied: chromadb!=0.5.10,!=0.5.11,!=0.5.12,!=0.5.4,!=0.5.5,!=0.5.7,!=0.5.9,<0.7.0,>=0.4.0 in /opt/anaconda3/envs/llm/lib/python3.11/site-packages (from langchain-chroma->-r /Users/japneetsingh/Documents/study/llm_engineering/condaenv.z7iy8fho.requirements.txt (line 22)) (0.6.3)\n",
      "Requirement already satisfied: dataclasses-json<0.7,>=0.5.7 in /opt/anaconda3/envs/llm/lib/python3.11/site-packages (from langchain-community->-r /Users/japneetsingh/Documents/study/llm_engineering/condaenv.z7iy8fho.requirements.txt (line 23)) (0.6.7)\n",
      "Requirement already satisfied: pydantic-settings<3.0.0,>=2.4.0 in /opt/anaconda3/envs/llm/lib/python3.11/site-packages (from langchain-community->-r /Users/japneetsingh/Documents/study/llm_engineering/condaenv.z7iy8fho.requirements.txt (line 23)) (2.8.0)\n",
      "Requirement already satisfied: httpx-sse<1.0.0,>=0.4.0 in /opt/anaconda3/envs/llm/lib/python3.11/site-packages (from langchain-community->-r /Users/japneetsingh/Documents/study/llm_engineering/condaenv.z7iy8fho.requirements.txt (line 23)) (0.4.0)\n",
      "Requirement already satisfied: sgmllib3k in /opt/anaconda3/envs/llm/lib/python3.11/site-packages (from feedparser->-r /Users/japneetsingh/Documents/study/llm_engineering/condaenv.z7iy8fho.requirements.txt (line 25)) (1.0.0)\n",
      "Requirement already satisfied: PyJWT<3.0.0,>=2.0.0 in /opt/anaconda3/envs/llm/lib/python3.11/site-packages (from twilio->-r /Users/japneetsingh/Documents/study/llm_engineering/condaenv.z7iy8fho.requirements.txt (line 26)) (2.10.1)\n",
      "Requirement already satisfied: aiohttp-retry>=2.8.3 in /opt/anaconda3/envs/llm/lib/python3.11/site-packages (from twilio->-r /Users/japneetsingh/Documents/study/llm_engineering/condaenv.z7iy8fho.requirements.txt (line 26)) (2.9.1)\n",
      "Requirement already satisfied: aiohappyeyeballs>=2.3.0 in /opt/anaconda3/envs/llm/lib/python3.11/site-packages (from aiohttp->datasets->-r /Users/japneetsingh/Documents/study/llm_engineering/condaenv.z7iy8fho.requirements.txt (line 6)) (2.4.6)\n",
      "Requirement already satisfied: aiosignal>=1.1.2 in /opt/anaconda3/envs/llm/lib/python3.11/site-packages (from aiohttp->datasets->-r /Users/japneetsingh/Documents/study/llm_engineering/condaenv.z7iy8fho.requirements.txt (line 6)) (1.3.2)\n",
      "Requirement already satisfied: attrs>=17.3.0 in /opt/anaconda3/envs/llm/lib/python3.11/site-packages (from aiohttp->datasets->-r /Users/japneetsingh/Documents/study/llm_engineering/condaenv.z7iy8fho.requirements.txt (line 6)) (25.1.0)\n",
      "Requirement already satisfied: frozenlist>=1.1.1 in /opt/anaconda3/envs/llm/lib/python3.11/site-packages (from aiohttp->datasets->-r /Users/japneetsingh/Documents/study/llm_engineering/condaenv.z7iy8fho.requirements.txt (line 6)) (1.5.0)\n",
      "Requirement already satisfied: propcache>=0.2.0 in /opt/anaconda3/envs/llm/lib/python3.11/site-packages (from aiohttp->datasets->-r /Users/japneetsingh/Documents/study/llm_engineering/condaenv.z7iy8fho.requirements.txt (line 6)) (0.3.0)\n",
      "Requirement already satisfied: yarl<2.0,>=1.17.0 in /opt/anaconda3/envs/llm/lib/python3.11/site-packages (from aiohttp->datasets->-r /Users/japneetsingh/Documents/study/llm_engineering/condaenv.z7iy8fho.requirements.txt (line 6)) (1.18.3)\n",
      "Requirement already satisfied: idna>=2.8 in /opt/anaconda3/envs/llm/lib/python3.11/site-packages (from anyio<5,>=3.5.0->openai->-r /Users/japneetsingh/Documents/study/llm_engineering/condaenv.z7iy8fho.requirements.txt (line 8)) (3.10)\n",
      "Requirement already satisfied: build>=1.0.3 in /opt/anaconda3/envs/llm/lib/python3.11/site-packages (from chromadb!=0.5.10,!=0.5.11,!=0.5.12,!=0.5.4,!=0.5.5,!=0.5.7,!=0.5.9,<0.7.0,>=0.4.0->langchain-chroma->-r /Users/japneetsingh/Documents/study/llm_engineering/condaenv.z7iy8fho.requirements.txt (line 22)) (1.2.2.post1)\n",
      "Requirement already satisfied: chroma-hnswlib==0.7.6 in /opt/anaconda3/envs/llm/lib/python3.11/site-packages (from chromadb!=0.5.10,!=0.5.11,!=0.5.12,!=0.5.4,!=0.5.5,!=0.5.7,!=0.5.9,<0.7.0,>=0.4.0->langchain-chroma->-r /Users/japneetsingh/Documents/study/llm_engineering/condaenv.z7iy8fho.requirements.txt (line 22)) (0.7.6)\n",
      "Requirement already satisfied: posthog>=2.4.0 in /opt/anaconda3/envs/llm/lib/python3.11/site-packages (from chromadb!=0.5.10,!=0.5.11,!=0.5.12,!=0.5.4,!=0.5.5,!=0.5.7,!=0.5.9,<0.7.0,>=0.4.0->langchain-chroma->-r /Users/japneetsingh/Documents/study/llm_engineering/condaenv.z7iy8fho.requirements.txt (line 22)) (3.6.5)\n",
      "Requirement already satisfied: onnxruntime>=1.14.1 in /opt/anaconda3/envs/llm/lib/python3.11/site-packages (from chromadb!=0.5.10,!=0.5.11,!=0.5.12,!=0.5.4,!=0.5.5,!=0.5.7,!=0.5.9,<0.7.0,>=0.4.0->langchain-chroma->-r /Users/japneetsingh/Documents/study/llm_engineering/condaenv.z7iy8fho.requirements.txt (line 22)) (1.20.1)\n",
      "Requirement already satisfied: opentelemetry-api>=1.2.0 in /opt/anaconda3/envs/llm/lib/python3.11/site-packages (from chromadb!=0.5.10,!=0.5.11,!=0.5.12,!=0.5.4,!=0.5.5,!=0.5.7,!=0.5.9,<0.7.0,>=0.4.0->langchain-chroma->-r /Users/japneetsingh/Documents/study/llm_engineering/condaenv.z7iy8fho.requirements.txt (line 22)) (1.30.0)\n",
      "Requirement already satisfied: opentelemetry-exporter-otlp-proto-grpc>=1.2.0 in /opt/anaconda3/envs/llm/lib/python3.11/site-packages (from chromadb!=0.5.10,!=0.5.11,!=0.5.12,!=0.5.4,!=0.5.5,!=0.5.7,!=0.5.9,<0.7.0,>=0.4.0->langchain-chroma->-r /Users/japneetsingh/Documents/study/llm_engineering/condaenv.z7iy8fho.requirements.txt (line 22)) (1.30.0)\n",
      "Requirement already satisfied: opentelemetry-instrumentation-fastapi>=0.41b0 in /opt/anaconda3/envs/llm/lib/python3.11/site-packages (from chromadb!=0.5.10,!=0.5.11,!=0.5.12,!=0.5.4,!=0.5.5,!=0.5.7,!=0.5.9,<0.7.0,>=0.4.0->langchain-chroma->-r /Users/japneetsingh/Documents/study/llm_engineering/condaenv.z7iy8fho.requirements.txt (line 22)) (0.51b0)\n",
      "Requirement already satisfied: opentelemetry-sdk>=1.2.0 in /opt/anaconda3/envs/llm/lib/python3.11/site-packages (from chromadb!=0.5.10,!=0.5.11,!=0.5.12,!=0.5.4,!=0.5.5,!=0.5.7,!=0.5.9,<0.7.0,>=0.4.0->langchain-chroma->-r /Users/japneetsingh/Documents/study/llm_engineering/condaenv.z7iy8fho.requirements.txt (line 22)) (1.30.0)\n",
      "Requirement already satisfied: pypika>=0.48.9 in /opt/anaconda3/envs/llm/lib/python3.11/site-packages (from chromadb!=0.5.10,!=0.5.11,!=0.5.12,!=0.5.4,!=0.5.5,!=0.5.7,!=0.5.9,<0.7.0,>=0.4.0->langchain-chroma->-r /Users/japneetsingh/Documents/study/llm_engineering/condaenv.z7iy8fho.requirements.txt (line 22)) (0.48.9)\n",
      "Requirement already satisfied: overrides>=7.3.1 in /opt/anaconda3/envs/llm/lib/python3.11/site-packages (from chromadb!=0.5.10,!=0.5.11,!=0.5.12,!=0.5.4,!=0.5.5,!=0.5.7,!=0.5.9,<0.7.0,>=0.4.0->langchain-chroma->-r /Users/japneetsingh/Documents/study/llm_engineering/condaenv.z7iy8fho.requirements.txt (line 22)) (7.7.0)\n",
      "Requirement already satisfied: importlib-resources in /opt/anaconda3/envs/llm/lib/python3.11/site-packages (from chromadb!=0.5.10,!=0.5.11,!=0.5.12,!=0.5.4,!=0.5.5,!=0.5.7,!=0.5.9,<0.7.0,>=0.4.0->langchain-chroma->-r /Users/japneetsingh/Documents/study/llm_engineering/condaenv.z7iy8fho.requirements.txt (line 22)) (6.5.2)\n",
      "Requirement already satisfied: grpcio>=1.58.0 in /opt/anaconda3/envs/llm/lib/python3.11/site-packages (from chromadb!=0.5.10,!=0.5.11,!=0.5.12,!=0.5.4,!=0.5.5,!=0.5.7,!=0.5.9,<0.7.0,>=0.4.0->langchain-chroma->-r /Users/japneetsingh/Documents/study/llm_engineering/condaenv.z7iy8fho.requirements.txt (line 22)) (1.71.0rc2)\n",
      "Requirement already satisfied: bcrypt>=4.0.1 in /opt/anaconda3/envs/llm/lib/python3.11/site-packages (from chromadb!=0.5.10,!=0.5.11,!=0.5.12,!=0.5.4,!=0.5.5,!=0.5.7,!=0.5.9,<0.7.0,>=0.4.0->langchain-chroma->-r /Users/japneetsingh/Documents/study/llm_engineering/condaenv.z7iy8fho.requirements.txt (line 22)) (4.2.1)\n",
      "Requirement already satisfied: kubernetes>=28.1.0 in /opt/anaconda3/envs/llm/lib/python3.11/site-packages (from chromadb!=0.5.10,!=0.5.11,!=0.5.12,!=0.5.4,!=0.5.5,!=0.5.7,!=0.5.9,<0.7.0,>=0.4.0->langchain-chroma->-r /Users/japneetsingh/Documents/study/llm_engineering/condaenv.z7iy8fho.requirements.txt (line 22)) (32.0.1)\n",
      "Requirement already satisfied: mmh3>=4.0.1 in /opt/anaconda3/envs/llm/lib/python3.11/site-packages (from chromadb!=0.5.10,!=0.5.11,!=0.5.12,!=0.5.4,!=0.5.5,!=0.5.7,!=0.5.9,<0.7.0,>=0.4.0->langchain-chroma->-r /Users/japneetsingh/Documents/study/llm_engineering/condaenv.z7iy8fho.requirements.txt (line 22)) (5.1.0)\n",
      "Requirement already satisfied: marshmallow<4.0.0,>=3.18.0 in /opt/anaconda3/envs/llm/lib/python3.11/site-packages (from dataclasses-json<0.7,>=0.5.7->langchain-community->-r /Users/japneetsingh/Documents/study/llm_engineering/condaenv.z7iy8fho.requirements.txt (line 23)) (3.26.1)\n",
      "Requirement already satisfied: typing-inspect<1,>=0.4.0 in /opt/anaconda3/envs/llm/lib/python3.11/site-packages (from dataclasses-json<0.7,>=0.5.7->langchain-community->-r /Users/japneetsingh/Documents/study/llm_engineering/condaenv.z7iy8fho.requirements.txt (line 23)) (0.9.0)\n",
      "Requirement already satisfied: googleapis-common-protos<2.0.dev0,>=1.56.2 in /opt/anaconda3/envs/llm/lib/python3.11/site-packages (from google-api-core->google-generativeai->-r /Users/japneetsingh/Documents/study/llm_engineering/condaenv.z7iy8fho.requirements.txt (line 10)) (1.68.0)\n",
      "Requirement already satisfied: cachetools<6.0,>=2.0.0 in /opt/anaconda3/envs/llm/lib/python3.11/site-packages (from google-auth>=2.15.0->google-generativeai->-r /Users/japneetsingh/Documents/study/llm_engineering/condaenv.z7iy8fho.requirements.txt (line 10)) (5.5.2)\n",
      "Requirement already satisfied: pyasn1-modules>=0.2.1 in /opt/anaconda3/envs/llm/lib/python3.11/site-packages (from google-auth>=2.15.0->google-generativeai->-r /Users/japneetsingh/Documents/study/llm_engineering/condaenv.z7iy8fho.requirements.txt (line 10)) (0.4.1)\n",
      "Requirement already satisfied: rsa<5,>=3.1.4 in /opt/anaconda3/envs/llm/lib/python3.11/site-packages (from google-auth>=2.15.0->google-generativeai->-r /Users/japneetsingh/Documents/study/llm_engineering/condaenv.z7iy8fho.requirements.txt (line 10)) (4.9)\n",
      "Requirement already satisfied: httpcore==1.* in /opt/anaconda3/envs/llm/lib/python3.11/site-packages (from httpx<1,>=0.23.0->openai->-r /Users/japneetsingh/Documents/study/llm_engineering/condaenv.z7iy8fho.requirements.txt (line 8)) (1.0.7)\n",
      "Requirement already satisfied: h11<0.15,>=0.13 in /opt/anaconda3/envs/llm/lib/python3.11/site-packages (from httpcore==1.*->httpx<1,>=0.23.0->openai->-r /Users/japneetsingh/Documents/study/llm_engineering/condaenv.z7iy8fho.requirements.txt (line 8)) (0.14.0)\n",
      "Requirement already satisfied: jsonpointer>=1.9 in /opt/anaconda3/envs/llm/lib/python3.11/site-packages (from jsonpatch<2.0,>=1.33->langchain-core->-r /Users/japneetsingh/Documents/study/llm_engineering/condaenv.z7iy8fho.requirements.txt (line 19)) (3.0.0)\n",
      "Requirement already satisfied: requests-toolbelt<2.0.0,>=1.0.0 in /opt/anaconda3/envs/llm/lib/python3.11/site-packages (from langsmith<0.4,>=0.1.17->langchain->-r /Users/japneetsingh/Documents/study/llm_engineering/condaenv.z7iy8fho.requirements.txt (line 18)) (1.0.0)\n",
      "Requirement already satisfied: zstandard<0.24.0,>=0.23.0 in /opt/anaconda3/envs/llm/lib/python3.11/site-packages (from langsmith<0.4,>=0.1.17->langchain->-r /Users/japneetsingh/Documents/study/llm_engineering/condaenv.z7iy8fho.requirements.txt (line 18)) (0.23.0)\n",
      "Requirement already satisfied: python-dateutil>=2.8.2 in /opt/anaconda3/envs/llm/lib/python3.11/site-packages (from pandas->datasets->-r /Users/japneetsingh/Documents/study/llm_engineering/condaenv.z7iy8fho.requirements.txt (line 6)) (2.9.0.post0)\n",
      "Requirement already satisfied: pytz>=2020.1 in /opt/anaconda3/envs/llm/lib/python3.11/site-packages (from pandas->datasets->-r /Users/japneetsingh/Documents/study/llm_engineering/condaenv.z7iy8fho.requirements.txt (line 6)) (2024.1)\n",
      "Requirement already satisfied: tzdata>=2022.7 in /opt/anaconda3/envs/llm/lib/python3.11/site-packages (from pandas->datasets->-r /Users/japneetsingh/Documents/study/llm_engineering/condaenv.z7iy8fho.requirements.txt (line 6)) (2025.1)\n",
      "Requirement already satisfied: annotated-types>=0.6.0 in /opt/anaconda3/envs/llm/lib/python3.11/site-packages (from pydantic<3,>=1.9.0->openai->-r /Users/japneetsingh/Documents/study/llm_engineering/condaenv.z7iy8fho.requirements.txt (line 8)) (0.7.0)\n",
      "Requirement already satisfied: pydantic-core==2.27.2 in /opt/anaconda3/envs/llm/lib/python3.11/site-packages (from pydantic<3,>=1.9.0->openai->-r /Users/japneetsingh/Documents/study/llm_engineering/condaenv.z7iy8fho.requirements.txt (line 8)) (2.27.2)\n",
      "Requirement already satisfied: python-dotenv>=0.21.0 in /opt/anaconda3/envs/llm/lib/python3.11/site-packages (from pydantic-settings<3.0.0,>=2.4.0->langchain-community->-r /Users/japneetsingh/Documents/study/llm_engineering/condaenv.z7iy8fho.requirements.txt (line 23)) (1.0.1)\n",
      "Requirement already satisfied: charset_normalizer<4,>=2 in /opt/anaconda3/envs/llm/lib/python3.11/site-packages (from requests->transformers->-r /Users/japneetsingh/Documents/study/llm_engineering/condaenv.z7iy8fho.requirements.txt (line 4)) (3.4.1)\n",
      "Requirement already satisfied: urllib3<3,>=1.21.1 in /opt/anaconda3/envs/llm/lib/python3.11/site-packages (from requests->transformers->-r /Users/japneetsingh/Documents/study/llm_engineering/condaenv.z7iy8fho.requirements.txt (line 4)) (2.3.0)\n",
      "Requirement already satisfied: markdown-it-py>=2.2.0 in /opt/anaconda3/envs/llm/lib/python3.11/site-packages (from rich>=12.0.0->modal->-r /Users/japneetsingh/Documents/study/llm_engineering/condaenv.z7iy8fho.requirements.txt (line 13)) (3.0.0)\n",
      "Requirement already satisfied: pygments<3.0.0,>=2.13.0 in /opt/anaconda3/envs/llm/lib/python3.11/site-packages (from rich>=12.0.0->modal->-r /Users/japneetsingh/Documents/study/llm_engineering/condaenv.z7iy8fho.requirements.txt (line 13)) (2.19.1)\n",
      "Requirement already satisfied: wrapt in /opt/anaconda3/envs/llm/lib/python3.11/site-packages (from smart-open>=1.8.1->gensim->-r /Users/japneetsingh/Documents/study/llm_engineering/condaenv.z7iy8fho.requirements.txt (line 12)) (1.17.2)\n",
      "Requirement already satisfied: sigtools>=4.0.1 in /opt/anaconda3/envs/llm/lib/python3.11/site-packages (from synchronicity~=0.9.10->modal->-r /Users/japneetsingh/Documents/study/llm_engineering/condaenv.z7iy8fho.requirements.txt (line 13)) (4.0.1)\n",
      "Requirement already satisfied: sympy!=1.13.2,>=1.13.1 in /opt/anaconda3/envs/llm/lib/python3.11/site-packages (from torch>=1.11.0->sentence-transformers->-r /Users/japneetsingh/Documents/study/llm_engineering/condaenv.z7iy8fho.requirements.txt (line 5)) (1.13.3)\n",
      "Requirement already satisfied: networkx in /opt/anaconda3/envs/llm/lib/python3.11/site-packages (from torch>=1.11.0->sentence-transformers->-r /Users/japneetsingh/Documents/study/llm_engineering/condaenv.z7iy8fho.requirements.txt (line 5)) (3.4.2)\n",
      "Requirement already satisfied: shellingham>=1.3.0 in /opt/anaconda3/envs/llm/lib/python3.11/site-packages (from typer<1.0,>=0.12->gradio->-r /Users/japneetsingh/Documents/study/llm_engineering/condaenv.z7iy8fho.requirements.txt (line 11)) (1.5.4)\n",
      "Requirement already satisfied: httplib2<1.dev0,>=0.19.0 in /opt/anaconda3/envs/llm/lib/python3.11/site-packages (from google-api-python-client->google-generativeai->-r /Users/japneetsingh/Documents/study/llm_engineering/condaenv.z7iy8fho.requirements.txt (line 10)) (0.22.0)\n",
      "Requirement already satisfied: google-auth-httplib2<1.0.0,>=0.2.0 in /opt/anaconda3/envs/llm/lib/python3.11/site-packages (from google-api-python-client->google-generativeai->-r /Users/japneetsingh/Documents/study/llm_engineering/condaenv.z7iy8fho.requirements.txt (line 10)) (0.2.0)\n",
      "Requirement already satisfied: uritemplate<5,>=3.0.1 in /opt/anaconda3/envs/llm/lib/python3.11/site-packages (from google-api-python-client->google-generativeai->-r /Users/japneetsingh/Documents/study/llm_engineering/condaenv.z7iy8fho.requirements.txt (line 10)) (4.1.1)\n",
      "Requirement already satisfied: joblib>=1.2.0 in /opt/anaconda3/envs/llm/lib/python3.11/site-packages (from scikit-learn->sentence-transformers->-r /Users/japneetsingh/Documents/study/llm_engineering/condaenv.z7iy8fho.requirements.txt (line 5)) (1.4.2)\n",
      "Requirement already satisfied: threadpoolctl>=3.1.0 in /opt/anaconda3/envs/llm/lib/python3.11/site-packages (from scikit-learn->sentence-transformers->-r /Users/japneetsingh/Documents/study/llm_engineering/condaenv.z7iy8fho.requirements.txt (line 5)) (3.5.0)\n",
      "Requirement already satisfied: pyproject_hooks in /opt/anaconda3/envs/llm/lib/python3.11/site-packages (from build>=1.0.3->chromadb!=0.5.10,!=0.5.11,!=0.5.12,!=0.5.4,!=0.5.5,!=0.5.7,!=0.5.9,<0.7.0,>=0.4.0->langchain-chroma->-r /Users/japneetsingh/Documents/study/llm_engineering/condaenv.z7iy8fho.requirements.txt (line 22)) (1.2.0)\n",
      "Requirement already satisfied: grpcio-status<2.0.dev0,>=1.33.2 in /opt/anaconda3/envs/llm/lib/python3.11/site-packages (from google-api-core[grpc]!=2.0.*,!=2.1.*,!=2.10.*,!=2.2.*,!=2.3.*,!=2.4.*,!=2.5.*,!=2.6.*,!=2.7.*,!=2.8.*,!=2.9.*,<3.0.0dev,>=1.34.1->google-ai-generativelanguage==0.6.15->google-generativeai->-r /Users/japneetsingh/Documents/study/llm_engineering/condaenv.z7iy8fho.requirements.txt (line 10)) (1.71.0rc2)\n",
      "Requirement already satisfied: hyperframe<7,>=6.1 in /opt/anaconda3/envs/llm/lib/python3.11/site-packages (from h2<5,>=3.1.0->grpclib==0.4.7->modal->-r /Users/japneetsingh/Documents/study/llm_engineering/condaenv.z7iy8fho.requirements.txt (line 13)) (6.1.0)\n",
      "Requirement already satisfied: hpack<5,>=4.1 in /opt/anaconda3/envs/llm/lib/python3.11/site-packages (from h2<5,>=3.1.0->grpclib==0.4.7->modal->-r /Users/japneetsingh/Documents/study/llm_engineering/condaenv.z7iy8fho.requirements.txt (line 13)) (4.1.0)\n",
      "Requirement already satisfied: pyparsing!=3.0.0,!=3.0.1,!=3.0.2,!=3.0.3,<4,>=2.4.2 in /opt/anaconda3/envs/llm/lib/python3.11/site-packages (from httplib2<1.dev0,>=0.19.0->google-api-python-client->google-generativeai->-r /Users/japneetsingh/Documents/study/llm_engineering/condaenv.z7iy8fho.requirements.txt (line 10)) (3.2.1)\n",
      "Requirement already satisfied: six>=1.9.0 in /opt/anaconda3/envs/llm/lib/python3.11/site-packages (from kubernetes>=28.1.0->chromadb!=0.5.10,!=0.5.11,!=0.5.12,!=0.5.4,!=0.5.5,!=0.5.7,!=0.5.9,<0.7.0,>=0.4.0->langchain-chroma->-r /Users/japneetsingh/Documents/study/llm_engineering/condaenv.z7iy8fho.requirements.txt (line 22)) (1.17.0)\n",
      "Requirement already satisfied: websocket-client!=0.40.0,!=0.41.*,!=0.42.*,>=0.32.0 in /opt/anaconda3/envs/llm/lib/python3.11/site-packages (from kubernetes>=28.1.0->chromadb!=0.5.10,!=0.5.11,!=0.5.12,!=0.5.4,!=0.5.5,!=0.5.7,!=0.5.9,<0.7.0,>=0.4.0->langchain-chroma->-r /Users/japneetsingh/Documents/study/llm_engineering/condaenv.z7iy8fho.requirements.txt (line 22)) (1.8.0)\n",
      "Requirement already satisfied: requests-oauthlib in /opt/anaconda3/envs/llm/lib/python3.11/site-packages (from kubernetes>=28.1.0->chromadb!=0.5.10,!=0.5.11,!=0.5.12,!=0.5.4,!=0.5.5,!=0.5.7,!=0.5.9,<0.7.0,>=0.4.0->langchain-chroma->-r /Users/japneetsingh/Documents/study/llm_engineering/condaenv.z7iy8fho.requirements.txt (line 22)) (2.0.0)\n",
      "Requirement already satisfied: oauthlib>=3.2.2 in /opt/anaconda3/envs/llm/lib/python3.11/site-packages (from kubernetes>=28.1.0->chromadb!=0.5.10,!=0.5.11,!=0.5.12,!=0.5.4,!=0.5.5,!=0.5.7,!=0.5.9,<0.7.0,>=0.4.0->langchain-chroma->-r /Users/japneetsingh/Documents/study/llm_engineering/condaenv.z7iy8fho.requirements.txt (line 22)) (3.2.2)\n",
      "Requirement already satisfied: durationpy>=0.7 in /opt/anaconda3/envs/llm/lib/python3.11/site-packages (from kubernetes>=28.1.0->chromadb!=0.5.10,!=0.5.11,!=0.5.12,!=0.5.4,!=0.5.5,!=0.5.7,!=0.5.9,<0.7.0,>=0.4.0->langchain-chroma->-r /Users/japneetsingh/Documents/study/llm_engineering/condaenv.z7iy8fho.requirements.txt (line 22)) (0.9)\n",
      "Requirement already satisfied: mdurl~=0.1 in /opt/anaconda3/envs/llm/lib/python3.11/site-packages (from markdown-it-py>=2.2.0->rich>=12.0.0->modal->-r /Users/japneetsingh/Documents/study/llm_engineering/condaenv.z7iy8fho.requirements.txt (line 13)) (0.1.2)\n",
      "Requirement already satisfied: coloredlogs in /opt/anaconda3/envs/llm/lib/python3.11/site-packages (from onnxruntime>=1.14.1->chromadb!=0.5.10,!=0.5.11,!=0.5.12,!=0.5.4,!=0.5.5,!=0.5.7,!=0.5.9,<0.7.0,>=0.4.0->langchain-chroma->-r /Users/japneetsingh/Documents/study/llm_engineering/condaenv.z7iy8fho.requirements.txt (line 22)) (15.0.1)\n",
      "Requirement already satisfied: flatbuffers in /opt/anaconda3/envs/llm/lib/python3.11/site-packages (from onnxruntime>=1.14.1->chromadb!=0.5.10,!=0.5.11,!=0.5.12,!=0.5.4,!=0.5.5,!=0.5.7,!=0.5.9,<0.7.0,>=0.4.0->langchain-chroma->-r /Users/japneetsingh/Documents/study/llm_engineering/condaenv.z7iy8fho.requirements.txt (line 22)) (25.2.10)\n",
      "Requirement already satisfied: deprecated>=1.2.6 in /opt/anaconda3/envs/llm/lib/python3.11/site-packages (from opentelemetry-api>=1.2.0->chromadb!=0.5.10,!=0.5.11,!=0.5.12,!=0.5.4,!=0.5.5,!=0.5.7,!=0.5.9,<0.7.0,>=0.4.0->langchain-chroma->-r /Users/japneetsingh/Documents/study/llm_engineering/condaenv.z7iy8fho.requirements.txt (line 22)) (1.2.18)\n",
      "Requirement already satisfied: importlib-metadata<=8.5.0,>=6.0 in /opt/anaconda3/envs/llm/lib/python3.11/site-packages (from opentelemetry-api>=1.2.0->chromadb!=0.5.10,!=0.5.11,!=0.5.12,!=0.5.4,!=0.5.5,!=0.5.7,!=0.5.9,<0.7.0,>=0.4.0->langchain-chroma->-r /Users/japneetsingh/Documents/study/llm_engineering/condaenv.z7iy8fho.requirements.txt (line 22)) (8.5.0)\n",
      "Requirement already satisfied: opentelemetry-exporter-otlp-proto-common==1.30.0 in /opt/anaconda3/envs/llm/lib/python3.11/site-packages (from opentelemetry-exporter-otlp-proto-grpc>=1.2.0->chromadb!=0.5.10,!=0.5.11,!=0.5.12,!=0.5.4,!=0.5.5,!=0.5.7,!=0.5.9,<0.7.0,>=0.4.0->langchain-chroma->-r /Users/japneetsingh/Documents/study/llm_engineering/condaenv.z7iy8fho.requirements.txt (line 22)) (1.30.0)\n",
      "Requirement already satisfied: opentelemetry-proto==1.30.0 in /opt/anaconda3/envs/llm/lib/python3.11/site-packages (from opentelemetry-exporter-otlp-proto-grpc>=1.2.0->chromadb!=0.5.10,!=0.5.11,!=0.5.12,!=0.5.4,!=0.5.5,!=0.5.7,!=0.5.9,<0.7.0,>=0.4.0->langchain-chroma->-r /Users/japneetsingh/Documents/study/llm_engineering/condaenv.z7iy8fho.requirements.txt (line 22)) (1.30.0)\n",
      "Requirement already satisfied: opentelemetry-instrumentation-asgi==0.51b0 in /opt/anaconda3/envs/llm/lib/python3.11/site-packages (from opentelemetry-instrumentation-fastapi>=0.41b0->chromadb!=0.5.10,!=0.5.11,!=0.5.12,!=0.5.4,!=0.5.5,!=0.5.7,!=0.5.9,<0.7.0,>=0.4.0->langchain-chroma->-r /Users/japneetsingh/Documents/study/llm_engineering/condaenv.z7iy8fho.requirements.txt (line 22)) (0.51b0)\n",
      "Requirement already satisfied: opentelemetry-instrumentation==0.51b0 in /opt/anaconda3/envs/llm/lib/python3.11/site-packages (from opentelemetry-instrumentation-fastapi>=0.41b0->chromadb!=0.5.10,!=0.5.11,!=0.5.12,!=0.5.4,!=0.5.5,!=0.5.7,!=0.5.9,<0.7.0,>=0.4.0->langchain-chroma->-r /Users/japneetsingh/Documents/study/llm_engineering/condaenv.z7iy8fho.requirements.txt (line 22)) (0.51b0)\n",
      "Requirement already satisfied: opentelemetry-semantic-conventions==0.51b0 in /opt/anaconda3/envs/llm/lib/python3.11/site-packages (from opentelemetry-instrumentation-fastapi>=0.41b0->chromadb!=0.5.10,!=0.5.11,!=0.5.12,!=0.5.4,!=0.5.5,!=0.5.7,!=0.5.9,<0.7.0,>=0.4.0->langchain-chroma->-r /Users/japneetsingh/Documents/study/llm_engineering/condaenv.z7iy8fho.requirements.txt (line 22)) (0.51b0)\n",
      "Requirement already satisfied: opentelemetry-util-http==0.51b0 in /opt/anaconda3/envs/llm/lib/python3.11/site-packages (from opentelemetry-instrumentation-fastapi>=0.41b0->chromadb!=0.5.10,!=0.5.11,!=0.5.12,!=0.5.4,!=0.5.5,!=0.5.7,!=0.5.9,<0.7.0,>=0.4.0->langchain-chroma->-r /Users/japneetsingh/Documents/study/llm_engineering/condaenv.z7iy8fho.requirements.txt (line 22)) (0.51b0)\n",
      "Requirement already satisfied: asgiref~=3.0 in /opt/anaconda3/envs/llm/lib/python3.11/site-packages (from opentelemetry-instrumentation-asgi==0.51b0->opentelemetry-instrumentation-fastapi>=0.41b0->chromadb!=0.5.10,!=0.5.11,!=0.5.12,!=0.5.4,!=0.5.5,!=0.5.7,!=0.5.9,<0.7.0,>=0.4.0->langchain-chroma->-r /Users/japneetsingh/Documents/study/llm_engineering/condaenv.z7iy8fho.requirements.txt (line 22)) (3.8.1)\n",
      "Requirement already satisfied: monotonic>=1.5 in /opt/anaconda3/envs/llm/lib/python3.11/site-packages (from posthog>=2.4.0->chromadb!=0.5.10,!=0.5.11,!=0.5.12,!=0.5.4,!=0.5.5,!=0.5.7,!=0.5.9,<0.7.0,>=0.4.0->langchain-chroma->-r /Users/japneetsingh/Documents/study/llm_engineering/condaenv.z7iy8fho.requirements.txt (line 22)) (1.6)\n",
      "Requirement already satisfied: backoff>=1.10.0 in /opt/anaconda3/envs/llm/lib/python3.11/site-packages (from posthog>=2.4.0->chromadb!=0.5.10,!=0.5.11,!=0.5.12,!=0.5.4,!=0.5.5,!=0.5.7,!=0.5.9,<0.7.0,>=0.4.0->langchain-chroma->-r /Users/japneetsingh/Documents/study/llm_engineering/condaenv.z7iy8fho.requirements.txt (line 22)) (2.2.1)\n",
      "Requirement already satisfied: pyasn1<0.7.0,>=0.4.6 in /opt/anaconda3/envs/llm/lib/python3.11/site-packages (from pyasn1-modules>=0.2.1->google-auth>=2.15.0->google-generativeai->-r /Users/japneetsingh/Documents/study/llm_engineering/condaenv.z7iy8fho.requirements.txt (line 10)) (0.6.1)\n",
      "Requirement already satisfied: mpmath<1.4,>=1.1.0 in /opt/anaconda3/envs/llm/lib/python3.11/site-packages (from sympy!=1.13.2,>=1.13.1->torch>=1.11.0->sentence-transformers->-r /Users/japneetsingh/Documents/study/llm_engineering/condaenv.z7iy8fho.requirements.txt (line 5)) (1.3.0)\n",
      "Requirement already satisfied: mypy-extensions>=0.3.0 in /opt/anaconda3/envs/llm/lib/python3.11/site-packages (from typing-inspect<1,>=0.4.0->dataclasses-json<0.7,>=0.5.7->langchain-community->-r /Users/japneetsingh/Documents/study/llm_engineering/condaenv.z7iy8fho.requirements.txt (line 23)) (1.0.0)\n",
      "Requirement already satisfied: httptools>=0.6.3 in /opt/anaconda3/envs/llm/lib/python3.11/site-packages (from uvicorn[standard]>=0.18.3->chromadb!=0.5.10,!=0.5.11,!=0.5.12,!=0.5.4,!=0.5.5,!=0.5.7,!=0.5.9,<0.7.0,>=0.4.0->langchain-chroma->-r /Users/japneetsingh/Documents/study/llm_engineering/condaenv.z7iy8fho.requirements.txt (line 22)) (0.6.4)\n",
      "Requirement already satisfied: uvloop!=0.15.0,!=0.15.1,>=0.14.0 in /opt/anaconda3/envs/llm/lib/python3.11/site-packages (from uvicorn[standard]>=0.18.3->chromadb!=0.5.10,!=0.5.11,!=0.5.12,!=0.5.4,!=0.5.5,!=0.5.7,!=0.5.9,<0.7.0,>=0.4.0->langchain-chroma->-r /Users/japneetsingh/Documents/study/llm_engineering/condaenv.z7iy8fho.requirements.txt (line 22)) (0.21.0)\n",
      "Requirement already satisfied: zipp>=3.20 in /opt/anaconda3/envs/llm/lib/python3.11/site-packages (from importlib-metadata<=8.5.0,>=6.0->opentelemetry-api>=1.2.0->chromadb!=0.5.10,!=0.5.11,!=0.5.12,!=0.5.4,!=0.5.5,!=0.5.7,!=0.5.9,<0.7.0,>=0.4.0->langchain-chroma->-r /Users/japneetsingh/Documents/study/llm_engineering/condaenv.z7iy8fho.requirements.txt (line 22)) (3.21.0)\n",
      "Requirement already satisfied: humanfriendly>=9.1 in /opt/anaconda3/envs/llm/lib/python3.11/site-packages (from coloredlogs->onnxruntime>=1.14.1->chromadb!=0.5.10,!=0.5.11,!=0.5.12,!=0.5.4,!=0.5.5,!=0.5.7,!=0.5.9,<0.7.0,>=0.4.0->langchain-chroma->-r /Users/japneetsingh/Documents/study/llm_engineering/condaenv.z7iy8fho.requirements.txt (line 22)) (10.0)\n",
      "\n",
      "done\n",
      "#\n",
      "# To activate this environment, use\n",
      "#\n",
      "#     $ conda activate llm\n",
      "#\n",
      "# To deactivate an active environment, use\n",
      "#\n",
      "#     $ conda deactivate\n",
      "\n"
     ]
    }
   ],
   "source": [
    "# This is a useful command that ensures your Anaconda environment \n",
    "# is up to date with any new upgrades to packages;\n",
    "# But it might take a minute and will print a lot to output\n",
    "\n",
    "!conda env update -f ../environment.yml"
   ]
  },
  {
   "cell_type": "code",
   "execution_count": 15,
   "id": "f0628772-6eba-496f-bac9-d708ca5ed664",
   "metadata": {},
   "outputs": [
    {
     "name": "stdout",
     "output_type": "stream",
     "text": [
      "\n",
      "CondaError: Run 'conda init' before 'conda activate'\n",
      "\n"
     ]
    }
   ],
   "source": [
    "!conda activate llms"
   ]
  },
  {
   "cell_type": "markdown",
   "id": "4688baaf-a72c-41b5-90b6-474cb24790a7",
   "metadata": {},
   "source": [
    "# Minor things we encounter on the course\n",
    "\n",
    "This isn't necessarily a feature of Jupyter, but it's a nice package to know about that is useful in Jupyter Labs, and I use it in the course.\n",
    "\n",
    "The package `tqdm` will print a nice progress bar if you wrap any iterable."
   ]
  },
  {
   "cell_type": "code",
   "execution_count": 16,
   "id": "2646a4e5-3c23-4aee-a34d-d623815187d2",
   "metadata": {},
   "outputs": [],
   "source": [
    "# Here's some code with no progress bar\n",
    "# It will take 10 seconds while you wonder what's happpening..\n",
    "\n",
    "import time\n",
    "\n",
    "spams = [\"spam\"] * 1000\n",
    "\n",
    "for spam in spams:\n",
    "    time.sleep(0.01)"
   ]
  },
  {
   "cell_type": "code",
   "execution_count": 17,
   "id": "6e96be3d-fa82-42a3-a8aa-b81dd20563a5",
   "metadata": {},
   "outputs": [
    {
     "name": "stderr",
     "output_type": "stream",
     "text": [
      "100%|███████████████████████████████████████████████████████████████████████████████████████████████████████████████████████| 1000/1000 [00:11<00:00, 83.84it/s]\n"
     ]
    }
   ],
   "source": [
    "# And now, with a nice little progress bar:\n",
    "\n",
    "import time\n",
    "from tqdm import tqdm\n",
    "\n",
    "spams = [\"spam\"] * 1000\n",
    "\n",
    "for spam in tqdm(spams):\n",
    "    time.sleep(0.01)"
   ]
  },
  {
   "cell_type": "code",
   "execution_count": 14,
   "id": "63c788dd-4618-4bb4-a5ce-204411a38ade",
   "metadata": {
    "scrolled": true
   },
   "outputs": [
    {
     "data": {
      "text/markdown": [
       "# This is a big heading!\n",
       "\n",
       "- And this is a bullet-point\n",
       "- So is this\n",
       "- Me, too!"
      ],
      "text/plain": [
       "<IPython.core.display.Markdown object>"
      ]
     },
     "metadata": {},
     "output_type": "display_data"
    }
   ],
   "source": [
    "# On a different topic, here's a useful way to print output in markdown\n",
    "\n",
    "from IPython.display import Markdown, display\n",
    "\n",
    "display(Markdown(\"# This is a big heading!\\n\\n- And this is a bullet-point\\n- So is this\\n- Me, too!\"))\n"
   ]
  },
  {
   "cell_type": "markdown",
   "id": "9d14c1fb-3321-4387-b6ca-9af27676f980",
   "metadata": {},
   "source": [
    "# That's it! You're up to speed on Jupyter Lab.\n",
    "\n",
    "## Want to be even more advanced?\n",
    "\n",
    "If you want to become a pro at Jupyter Lab, you can read their tutorial [here](https://jupyterlab.readthedocs.io/en/latest/). But this isn't required for our course; just a good technique for hitting Shift + Return and enjoying the result!"
   ]
  },
  {
   "cell_type": "code",
   "execution_count": null,
   "id": "637441a5-fd1c-4983-95b5-a97707335eb8",
   "metadata": {},
   "outputs": [],
   "source": []
  }
 ],
 "metadata": {
  "kernelspec": {
   "display_name": "Python 3 (ipykernel)",
   "language": "python",
   "name": "python3"
  },
  "language_info": {
   "codemirror_mode": {
    "name": "ipython",
    "version": 3
   },
   "file_extension": ".py",
   "mimetype": "text/x-python",
   "name": "python",
   "nbconvert_exporter": "python",
   "pygments_lexer": "ipython3",
   "version": "3.11.11"
  }
 },
 "nbformat": 4,
 "nbformat_minor": 5
}
