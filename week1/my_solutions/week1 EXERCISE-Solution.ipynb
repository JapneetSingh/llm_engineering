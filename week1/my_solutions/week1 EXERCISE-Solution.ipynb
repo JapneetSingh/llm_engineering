{
 "cells": [
  {
   "cell_type": "markdown",
   "id": "fe12c203-e6a6-452c-a655-afb8a03a4ff5",
   "metadata": {},
   "source": [
    "# End of week 1 exercise\n",
    "\n",
    "To demonstrate your familiarity with OpenAI API, and also Ollama, build a tool that takes a technical question,  \n",
    "and responds with an explanation. This is a tool that you will be able to use yourself during the course!"
   ]
  },
  {
   "cell_type": "code",
   "execution_count": 64,
   "id": "c1070317-3ed9-4659-abe3-828943230e03",
   "metadata": {},
   "outputs": [],
   "source": [
    "# imports\n",
    "import os\n",
    "import requests\n",
    "import json\n",
    "from typing import List\n",
    "from dotenv import load_dotenv\n",
    "from bs4 import BeautifulSoup\n",
    "from IPython.display import Markdown, display, update_display\n",
    "from openai import OpenAI\n",
    "import ollama"
   ]
  },
  {
   "cell_type": "code",
   "execution_count": 3,
   "id": "4a456906-915a-4bfd-bb9d-57e505c5093f",
   "metadata": {},
   "outputs": [],
   "source": [
    "# constants\n",
    "MODEL_GPT = 'gpt-4o-mini'\n",
    "MODEL_LLAMA = 'llama3.2'"
   ]
  },
  {
   "cell_type": "markdown",
   "id": "3ef0ca4e-03c5-4acd-8c02-1affb620d2a9",
   "metadata": {},
   "source": [
    "# Solution using CHATGPT"
   ]
  },
  {
   "cell_type": "code",
   "execution_count": 9,
   "id": "a8d7923c-5f28-4c30-8556-342d7c8497c1",
   "metadata": {},
   "outputs": [
    {
     "name": "stdout",
     "output_type": "stream",
     "text": [
      "API key looks good so far\n"
     ]
    }
   ],
   "source": [
    "# set up environment\n",
    "## Get the Key\n",
    "load_dotenv(override=True)\n",
    "api_key = os.getenv('OPENAI_API_KEY')\n",
    "\n",
    "if api_key and api_key.startswith('sk-proj-') and len(api_key)>10:\n",
    "    print(\"API key looks good so far\")\n",
    "else:\n",
    "    print(\"There might be a problem with your API\")\n",
    "\n"
   ]
  },
  {
   "cell_type": "code",
   "execution_count": 10,
   "id": "11e1ef87-2c50-4ad9-bde2-e402b3a41d33",
   "metadata": {},
   "outputs": [],
   "source": [
    "#Define the API\n",
    "openai=OpenAI()"
   ]
  },
  {
   "cell_type": "code",
   "execution_count": 49,
   "id": "1bf5cbae-6a19-417e-aa17-b6bcf8fc8d58",
   "metadata": {},
   "outputs": [],
   "source": [
    "# CODE-SNIPPET: Paste your code here\n",
    "CODE_SNIPPET = \"\"\"\n",
    "\n",
    "yield from {book.get(\"author\") for book in books if book.get(\"author\")}\n",
    "\n",
    "\"\"\""
   ]
  },
  {
   "cell_type": "code",
   "execution_count": 50,
   "id": "3f0d0137-52b0-47a8-81a8-11a90a010798",
   "metadata": {},
   "outputs": [],
   "source": [
    "# here is the question; type over this to ask something new\n",
    "def usr_prompt(code):\n",
    "    question = \"\"\"Please explain what this code does and why:\\n\\n\"\"\"\n",
    "    question += code\n",
    "    return question\n",
    "\n"
   ]
  },
  {
   "cell_type": "code",
   "execution_count": 51,
   "id": "d39db128-d417-4376-8117-d0bd856773c5",
   "metadata": {},
   "outputs": [],
   "source": [
    "sys_prompt = \"\"\"You are a tutor whose job is to explain code. The users will provide you snippets\n",
    "of code and your job is to explain how the code works. You can do the same by creating sample data \n",
    "and then show how the code changes the data line by line. Please ensure to explain how any data \n",
    "generation code you use works and then focus on the code snippet provided by the user to expand \n",
    "on the details of how the code works.Please provide your response in markdown.\"\"\"\n",
    "#If the customer explicitly asks you to improve the code please provide\n",
    "#helpful suggestions on how the code can be made more efficient and readable"
   ]
  },
  {
   "cell_type": "code",
   "execution_count": 52,
   "id": "60ce7000-a4a5-4cce-a261-e75ef45063b4",
   "metadata": {},
   "outputs": [],
   "source": [
    "# Get gpt-4o-mini to answer, with streaming\n",
    "def explain_code(system_prompt, code):\n",
    "    response = openai.chat.completions.create(\n",
    "        model=MODEL_GPT,\n",
    "        messages = [{\"role\":\"system\",\"content\":sys_prompt},\n",
    "                    {\"role\":\"user\",\"content\":usr_prompt(code)}]\n",
    "        )\n",
    "    result=response.choices[0].message.content\n",
    "    display(Markdown(result))\n"
   ]
  },
  {
   "cell_type": "code",
   "execution_count": 48,
   "id": "8d19401b-f1fb-4ff4-a1c7-1b9c8f9b0aab",
   "metadata": {},
   "outputs": [
    {
     "data": {
      "text/markdown": [
       "Certainly! Let's break down the code snippet you provided:\n",
       "\n",
       "```python\n",
       "yield from {book.get(\"author\") for book in books if book.get(\"author\")}\n",
       "```\n",
       "\n",
       "### What does this code do?\n",
       "\n",
       "1. **Set Comprehension**:\n",
       "   - The expression inside the `{...}` is a *set comprehension*. A set comprehension is a concise way to create a set in Python. \n",
       "   - In this case, it iterates through a collection called `books`, retrieves the value of the `\"author\"` key for each `book`, and includes it in the set if it exists.\n",
       "\n",
       "2. **Filtering**:\n",
       "   - The condition `if book.get(\"author\")` ensures that only books which have an author will be included in the resulting set. Using `book.get(\"author\")` retrieves the value associated with the key `\"author\"`, and the if-condition filters out any books where this value is `None` or empty.\n",
       "\n",
       "3. **Yielding Values**:\n",
       "   - The `yield from` statement is used in a generator function context. It allows the generator to yield all values from the set produced by the comprehension one at a time.\n",
       "   - This means that the function is not returning a complete set at once; instead, it allows iteration over each item of the set.\n",
       "\n",
       "### Why use this code construct?\n",
       "\n",
       "- **Uniqueness**: By using a set comprehension, this code guarantees that the authors yielded are unique since sets inherently do not allow duplicate values.\n",
       "- **Lazy Evaluation**: Utilizing `yield from` allows for lazy evaluation of the results. This means that the items can be processed one at a time as they are required, which is useful for handling large datasets efficiently.\n",
       "- **Clarity and Conciseness**: The code is compact and clear, succinctly conveying the intention to collect unique authors from a potentially large list of books.\n",
       "\n",
       "### Sample Data to Illustrate\n",
       "\n",
       "To show how this code works with actual data, let's create a sample list of dictionaries representing books:\n",
       "\n",
       "```python\n",
       "books = [\n",
       "    {\"title\": \"Book A\", \"author\": \"Author 1\"},\n",
       "    {\"title\": \"Book B\", \"author\": \"Author 2\"},\n",
       "    {\"title\": \"Book C\", \"author\": \"\"},\n",
       "    {\"title\": \"Book D\", \"author\": \"Author 1\"},\n",
       "    {\"title\": \"Book E\", \"author\": None},\n",
       "    {\"title\": \"Book F\", \"author\": \"Author 3\"},\n",
       "]\n",
       "\n",
       "# This is where we would use the generator function that includes the yield from line\n",
       "def get_unique_authors(books):\n",
       "    yield from {book.get(\"author\") for book in books if book.get(\"author\")}\n",
       "\n",
       "# Creating a generator\n",
       "unique_authors = get_unique_authors(books)\n",
       "\n",
       "# To display the unique authors\n",
       "for author in unique_authors:\n",
       "    print(author)\n",
       "```\n",
       "\n",
       "### How the Data is Processed\n",
       "\n",
       "Let's walk through the comprehension and see how it generates the output:\n",
       "\n",
       "1. **Input List**: \n",
       "\n",
       "   The `books` list has 6 dictionaries.\n",
       "\n",
       "2. **Processing Each Book**:\n",
       "\n",
       "   - `book = {\"title\": \"Book A\", \"author\": \"Author 1\"}`: `book.get(\"author\")` returns \"Author 1\", which is added to the set.\n",
       "   - `book = {\"title\": \"Book B\", \"author\": \"Author 2\"}`: `book.get(\"author\")` returns \"Author 2\", which is added to the set.\n",
       "   - `book = {\"title\": \"Book C\", \"author\": \"\"}`: `book.get(\"author\")` returns \"\", which fails the filter condition and is ignored.\n",
       "   - `book = {\"title\": \"Book D\", \"author\": \"Author 1\"}`: `book.get(\"author\")` returns \"Author 1\" again, but it's already in the set, so it's ignored.\n",
       "   - `book = {\"title\": \"Book E\", \"author\": None}`: `book.get(\"author\")` returns `None`, which also fails the filter condition and is ignored.\n",
       "   - `book = {\"title\": \"Book F\", \"author\": \"Author 3\"}`: `book.get(\"author\")` returns \"Author 3\", which is added to the set.\n",
       "\n",
       "3. **Final Set**: After processing all books, the resulting set would be `{\"Author 1\", \"Author 2\", \"Author 3\"}`.\n",
       "\n",
       "4. **Output**: The generator will now yield these unique authors one by one when iterated in a loop.\n",
       "\n",
       "### Conclusion\n",
       "\n",
       "In summary, the given code snippet uses a combination of set comprehension and yielding to efficiently create and return unique authors from a list of books. The use of filtering eliminates any blank or missing author entries, ensuring the final result is meaningful."
      ],
      "text/plain": [
       "<IPython.core.display.Markdown object>"
      ]
     },
     "metadata": {},
     "output_type": "display_data"
    }
   ],
   "source": [
    "explain_code(sys_prompt, CODE_SNIPPET)"
   ]
  },
  {
   "cell_type": "markdown",
   "id": "033a73f3-7c80-44f3-9e0c-397f59921e44",
   "metadata": {},
   "source": [
    "# Streaming solution"
   ]
  },
  {
   "cell_type": "code",
   "execution_count": 53,
   "id": "a4f4311d-bd8f-46dd-98ce-03f0e2f3804c",
   "metadata": {},
   "outputs": [],
   "source": [
    "#Creating a streaming solution\n",
    "def explain_code_stream(system_prompt, code):\n",
    "    stream = openai.chat.completions.create(\n",
    "        model=MODEL_GPT,\n",
    "        messages = [{\"role\":\"system\",\"content\":sys_prompt},\n",
    "                    {\"role\":\"user\",\"content\":usr_prompt(code)}],\n",
    "        stream=True\n",
    "        )\n",
    "    response= \"\"\n",
    "    display_handle = display(Markdown(\"\"), display_id=True)\n",
    "    for chunk in stream:\n",
    "        response += chunk.choices[0].delta.content or ''\n",
    "        response = response.replace(\"```\",\"\").replace(\"markdown\", \"\")\n",
    "        update_display(Markdown(response), display_id=display_handle.display_id)"
   ]
  },
  {
   "cell_type": "code",
   "execution_count": 54,
   "id": "d8e0d9ef-0671-44a7-9ebe-c4436f5ce035",
   "metadata": {
    "scrolled": true
   },
   "outputs": [
    {
     "data": {
      "text/markdown": [
       "Certainly! Let's break down this code snippet step by step to understand what it does and how it works.\n",
       "\n",
       "### Explanation of Code\n",
       "\n",
       "1. **Context**: \n",
       "   This snippet is using a generator to yield values from a set comprehension. Specifically, it retrieves the authors of books in a collection named `books`, which is likely a list (or another iterable) of dictionaries.\n",
       "\n",
       "2. **`{book.get(\"author\") for book in books if book.get(\"author\")}`**:\n",
       "   - This part is called a **set comprehension**. It's creating a set of unique author values from the `books` collection.\n",
       "   - `book` is a variable that iterates through each item in `books`.\n",
       "   - `book.get(\"author\")` is used to safely access the \"author\" key from each book dictionary. If the key \"author\" does not exist, it will return `None`, preventing a KeyError.\n",
       "   - The `if book.get(\"author\")` condition filters only those books that have a valid (non-None) author. So, only books with authors will be considered in the set.\n",
       "\n",
       "3. **`yield from`**:\n",
       "   - This is a syntax used in Python generators. It delegates yielding values to another iterable (in this case, the set created earlier) instead of handling the values in a loop or using a list.\n",
       "   - As a result, each unique author found in the `books` collection will be yielded one by one whenever the generator function is called.\n",
       "\n",
       "### Sample Data Generation\n",
       "\n",
       "Let's create a sample list of `books` to demonstrate how this code works.\n",
       "\n",
       "python\n",
       "books = [\n",
       "    {\"title\": \"Book A\", \"author\": \"Author 1\"},\n",
       "    {\"title\": \"Book B\", \"author\": \"Author 2\"},\n",
       "    {\"title\": \"Book C\", \"author\": None},\n",
       "    {\"title\": \"Book D\", \"author\": \"Author 1\"},  # Duplicate author\n",
       "    {\"title\": \"Book E\", \"author\": \"Author 3\"},\n",
       "    {\"title\": \"Book F\"},  # No author key\n",
       "]\n",
       "\n",
       "\n",
       "### How the Code Processes the Sample Data\n",
       "\n",
       "1. The code starts by creating a set comprehension:\n",
       "   python\n",
       "   {book.get(\"author\") for book in books if book.get(\"author\")}\n",
       "   \n",
       "   \n",
       "   - Iterating through each book:\n",
       "       - For \"Book A\": author is \"Author 1\" → Included\n",
       "       - For \"Book B\": author is \"Author 2\" → Included\n",
       "       - For \"Book C\": author is `None` → Excluded\n",
       "       - For \"Book D\": author is \"Author 1\" → Duplicate (already included)\n",
       "       - For \"Book E\": author is \"Author 3\" → Included\n",
       "       - For \"Book F\": no author key → Excluded\n",
       "\n",
       "   Resulting set: `{\"Author 1\", \"Author 2\", \"Author 3\"}`.\n",
       "\n",
       "2. When using `yield from`:\n",
       "   - The generator will yield each author one at a time when iterated over:\n",
       "       - First, it yields `\"Author 1\"`.\n",
       "       - Then it yields `\"Author 2\"`.\n",
       "       - Finally, it yields `\"Author 3\"`.\n",
       "\n",
       "### Conclusion\n",
       "\n",
       "The complete line of code is useful for extracting and yielding unique author names from a list of book dictionaries, while gracefully skipping over any books that do not have an author defined. This is a clean and efficient way to obtain a collection of authors without duplicates."
      ],
      "text/plain": [
       "<IPython.core.display.Markdown object>"
      ]
     },
     "metadata": {},
     "output_type": "display_data"
    }
   ],
   "source": [
    "explain_code_stream(sys_prompt, CODE_SNIPPET)"
   ]
  },
  {
   "cell_type": "code",
   "execution_count": 57,
   "id": "143dd883-b920-4029-8090-3c8378629570",
   "metadata": {},
   "outputs": [],
   "source": [
    "CODE_SNIPPET_NEW = \"\"\"\n",
    "\n",
    "[x if x >= 300 else x+10 for x in y ]\n",
    "\n",
    "\"\"\""
   ]
  },
  {
   "cell_type": "code",
   "execution_count": 58,
   "id": "e0f034bc-cc8e-4775-b6e8-2872cc432f88",
   "metadata": {},
   "outputs": [
    {
     "data": {
      "text/markdown": [
       "Certainly! Let's break down the given list comprehension step-by-step:\n",
       "\n",
       "### Code Explanation\n",
       "\n",
       "python\n",
       "[x if x >= 300 else x + 10 for x in y]\n",
       "\n",
       "\n",
       "This line of code is a list comprehension that generates a new list based on the values found in the iterable `y`. Let's go through the different components of the code:\n",
       "\n",
       "1. **List Comprehension**: This is a compact way to create lists in Python. The general syntax is:\n",
       "   python\n",
       "   [<expression> for <item> in <iterable>]\n",
       "   \n",
       "   In this case, the `<expression>` is `x if x >= 300 else x + 10`.\n",
       "\n",
       "2. **Conditional Expression**: The expression `x if x >= 300 else x + 10` is a conditional expression (also known as a ternary operator). It evaluates to:\n",
       "   - `x` if the condition `x >= 300` is `True`\n",
       "   - `x + 10` if the condition is `False`\n",
       "\n",
       "3. **Iterating Over `y`**: The list comprehension iterates over each element `x` in the iterable `y`.\n",
       "\n",
       "### Working of the Code\n",
       "\n",
       "To understand how this works, let’s create sample data for `y` and see how the code modifies that data.\n",
       "\n",
       "#### Sample Data\n",
       "\n",
       "python\n",
       "y = [250, 300, 280, 320, 290]\n",
       "\n",
       "\n",
       "Now we apply the list comprehension to this data:\n",
       "\n",
       "### Step-by-Step Transformation\n",
       "\n",
       "1. **Element: 250**\n",
       "   - Condition: `250 >= 300` → `False`\n",
       "   - Result: `250 + 10` → `260`\n",
       "\n",
       "2. **Element: 300**\n",
       "   - Condition: `300 >= 300` → `True`\n",
       "   - Result: `300`\n",
       "\n",
       "3. **Element: 280**\n",
       "   - Condition: `280 >= 300` → `False`\n",
       "   - Result: `280 + 10` → `290`\n",
       "\n",
       "4. **Element: 320**\n",
       "   - Condition: `320 >= 300` → `True`\n",
       "   - Result: `320`\n",
       "\n",
       "5. **Element: 290**\n",
       "   - Condition: `290 >= 300` → `False`\n",
       "   - Result: `290 + 10` → `300`\n",
       "\n",
       "### Final Result\n",
       "\n",
       "After processing each element, the new list created by the list comprehension would be:\n",
       "\n",
       "python\n",
       "[260, 300, 290, 320, 300]\n",
       "\n",
       "\n",
       "### Summary\n",
       "\n",
       "- The code generates a new list where, for each element `x` in `y`, if `x` is less than 300, it adds 10 to `x`.\n",
       "- If `x` is 300 or greater, it keeps `x` unchanged.\n",
       "- This is useful when you want to adjust values based on a specific threshold (in this case, 300).\n",
       "\n",
       "Feel free to ask if you have further questions!"
      ],
      "text/plain": [
       "<IPython.core.display.Markdown object>"
      ]
     },
     "metadata": {},
     "output_type": "display_data"
    }
   ],
   "source": [
    "explain_code_stream(sys_prompt, CODE_SNIPPET_NEW)"
   ]
  },
  {
   "cell_type": "code",
   "execution_count": null,
   "id": "033a0a6e-bf08-46fc-8c4e-d206f3efa6ad",
   "metadata": {},
   "outputs": [],
   "source": []
  },
  {
   "cell_type": "code",
   "execution_count": null,
   "id": "531e4d3d-809d-4432-a4f8-7d2c9d213896",
   "metadata": {},
   "outputs": [],
   "source": []
  },
  {
   "cell_type": "markdown",
   "id": "1c998d3a-39bb-464b-88ca-c8e5f591ebeb",
   "metadata": {},
   "source": [
    "# Get Llama 3.2 to answer using OPENAI API"
   ]
  },
  {
   "cell_type": "code",
   "execution_count": 67,
   "id": "e5a4e224-8467-4ec4-80ed-0fc3a8659f99",
   "metadata": {},
   "outputs": [],
   "source": [
    "openai_ollama = OpenAI(base_url='http://localhost:11434/v1', api_key='ollama')"
   ]
  },
  {
   "cell_type": "code",
   "execution_count": 68,
   "id": "de6caafd-56a9-492f-ab3a-cb52af301b98",
   "metadata": {},
   "outputs": [],
   "source": [
    "#Creating a streaming solution\n",
    "def explain_code_stream_llama_openai(client, system_prompt, code):\n",
    "    stream = client.chat.completions.create(\n",
    "        model=MODEL_LLAMA,\n",
    "        messages = [{\"role\":\"system\",\"content\":sys_prompt},\n",
    "                    {\"role\":\"user\",\"content\":usr_prompt(code)}],\n",
    "        stream=True\n",
    "        )\n",
    "    response= \"\"\n",
    "    display_handle = display(Markdown(\"\"), display_id=True)\n",
    "    for chunk in stream:\n",
    "        response += chunk.choices[0].delta.content or ''\n",
    "        response = response.replace(\"```\",\"\").replace(\"markdown\", \"\")\n",
    "        update_display(Markdown(response), display_id=display_handle.display_id)"
   ]
  },
  {
   "cell_type": "code",
   "execution_count": 69,
   "id": "3e615668-f99b-4ce4-8073-81df1ca7992e",
   "metadata": {
    "scrolled": true
   },
   "outputs": [
    {
     "data": {
      "text/markdown": [
       "**Yield From Loop Explanation**\n",
       "======================================\n",
       "\n",
       "The given code snippet is a part of a Python generator expression within a `yield from` statement. Let's break it down:\n",
       "\n",
       "### Code Snippet\n",
       "\n",
       "python\n",
       "yield from {book.get(\"author\") for book in books if book.get(\"author\")}\n",
       "\n",
       "\n",
       "### Explanation\n",
       "\n",
       "This line of code uses the following components to generate values:\n",
       "\n",
       "1.  **Generator Expression**: It's an expression that consists of an iterable (like a list or a dictionary) on the left side and a `for` loop, a `if` condition, and a set comprehension on the right.\n",
       "2.  **Yield From Statement**: The `yield from` statement tells Python to create a new iterator for each item yielded by the generator expression.\n",
       "\n",
       "### How it Works (with Sample Data)\n",
       "\n",
       "Assume we have a dictionary `books` with multiple books, where each book has an 'author' key. Let's define our sample data:\n",
       "\n",
       "python\n",
       "# Sample Data: Books Dictionary\n",
       "books = {\n",
       "    \"book1\": {\"title\": \"Book Title 1\", \"author\": \"Author A\"},\n",
       "    \"book2\": {\"title\": \"Book Title 2\", \"author\": \"Author B\"},\n",
       "    \"book3\": {\"title\": \"Book Title 3\", \"unknown\": \"Unknown Value\"}  # Missing 'author'\n",
       "}\n",
       "\n",
       "\n",
       "We'll now walk through how this code generates values using our sample data:\n",
       "\n",
       "1.  **for book in books**: This outer loop iterates over each book in the `books` dictionary.\n",
       "\n",
       "    *   Book Count: 3\n",
       "\n",
       "    |\n",
       "    |-- Book: \"book1\"\n",
       "    |-- Book: \"book2\"\n",
       "    |-- Book: \"book3\"\n",
       "\n",
       "2.  **if book.get(\"author\")**: The inner condition filters books based on their 'author' property.\n",
       "\n",
       "    *   `book.get(\"author\")` returns `None` because `\"book3\"` is missing the 'author' key.\n",
       "    |   If `False`, skip this iteration (not part of our sample output)\n",
       "    +---------------+\n",
       "    |  Book: \"book1\"    |\n",
       "    |  (Author A present) |\n",
       "    +---------------+\n",
       "    |  Book: \"book2\"    |\n",
       "    +---------------+\n",
       "\n",
       "\n",
       "3.  `{book.get(\"author\") for book in books if book.get(\"author\")}`: This is the inner iterable.\n",
       "\n",
       "    *   It returns a set comprehension with author values for matching books.\n",
       "\n",
       "        +---------------+--------+\n",
       "        |  Book: \"book1\"| Author A|\n",
       "        +---------------+---------+--------------+\n",
       "                  |     |\n",
       "                  v     v\n",
       "          {\"Author A\"}\n",
       "\n",
       "    *   `\"Book2\"` is missing the 'author' key, so this iteration doesn't count.\n",
       "\n",
       "4.  `yield from {book.get(\"author\") for book in books if book.get(\"author\")}`: This line tells Python what values to pass through as return values using `yield`.\n",
       "\n",
       "Let's visualize an excerpt of how this `yield from` statement works with output:\n",
       "\n",
       "\n",
       "# Sample Iteration:\n",
       "Book: \"book1\"\n",
       "  yield {\"Author A\"} \n",
       "\n",
       "Book: \"book2\" \n",
       "    yield {} (missing 'author')\n",
       "Skip iteration for book3\n",
       "\n",
       "Result set returned so far {\n",
       "    {'Author A'}\n",
       "}\n",
       ".\n",
       "\n",
       "This code effectively filters out books missing the `'title'` or `'author'`, and then yields only the matching author."
      ],
      "text/plain": [
       "<IPython.core.display.Markdown object>"
      ]
     },
     "metadata": {},
     "output_type": "display_data"
    }
   ],
   "source": [
    "explain_code_stream_llama_openai(openai_ollama,sys_prompt, CODE_SNIPPET)"
   ]
  },
  {
   "cell_type": "markdown",
   "id": "489b6ef3-31b7-4c54-9d06-a5a77acb4050",
   "metadata": {},
   "source": [
    "# Get Llama 3.2 to answer using OLLAMA API"
   ]
  },
  {
   "cell_type": "code",
   "execution_count": 72,
   "id": "929cf81d-7abe-40ad-a105-c152d7da3698",
   "metadata": {},
   "outputs": [],
   "source": [
    "#Creating a streaming solution\n",
    "def explain_code_stream_llama_ollama(system_prompt, code):\n",
    "    stream = ollama.chat(\n",
    "        model=MODEL_LLAMA,\n",
    "        messages = [{\"role\":\"system\",\"content\":sys_prompt},\n",
    "                    {\"role\":\"user\",\"content\":usr_prompt(code)}],\n",
    "        stream=True\n",
    "        )\n",
    "    response= \"\"\n",
    "    display_handle = display(Markdown(\"\"), display_id=True)\n",
    "    for chunk in stream:\n",
    "        response += chunk['message']['content'] or ''\n",
    "        response = response.replace(\"```\",\"\").replace(\"markdown\", \"\")\n",
    "        update_display(Markdown(response), display_id=display_handle.display_id)"
   ]
  },
  {
   "cell_type": "code",
   "execution_count": 73,
   "id": "ff44cdd7-f7af-466b-abd1-c12b4c759406",
   "metadata": {
    "scrolled": true
   },
   "outputs": [
    {
     "data": {
      "text/markdown": [
       "**Code Explanation**\n",
       "\n",
       "This code snippet uses a combination of Python's `yield from` statement, dictionary comprehension, and list comprehension to extract the authors of books from an iterable (`books`) and return them as a generator.\n",
       "\n",
       "### Breakdown\n",
       "\n",
       "1. `{book.get(\"author\") for book in books if book.get(\"author\")}` is a dictionary comprehension:\n",
       "\t* It iterates over each book `book` in the `books` iterable.\n",
       "\t* For each book, it attempts to retrieve the value associated with the key `\"author\"`.\n",
       "\t* If the key exists (i.e., the book has an author), its value is included in the resulting iterator.\n",
       "2. `yield from ...` is a Python 3.3+ feature that allows us to \"yield from\" an iterable, which means yielding each item from the inner iterable without creating a new scope.\n",
       "\n",
       "### How it works\n",
       "\n",
       "The entire expression is evaluated as follows:\n",
       "\n",
       "1. The dictionary comprehension iterates over each book in `books`.\n",
       "2. For each book, it attempts to retrieve the author.\n",
       "3. If successful, the author's value is included in the iterator.\n",
       "4. The `yield from` statement then yields each item from this iterator.\n",
       "\n",
       "### Why\n",
       "\n",
       "This code snippet seems to be designed to extract authors from a list of books. In other contexts, you might see similar code used for filtering or transforming data based on certain conditions.\n",
       "\n",
       "Here's an example of how this code would work:\n",
       "\n",
       "**Sample Data**\n",
       "python\n",
       "books = [\n",
       "    {\"title\": \"Book 1\", \"author\": \"John Doe\"},\n",
       "    {\"title\": \"Book 2\", \"author\": None},\n",
       "    {\"title\": \"Book 3\", \"author\": \"Jane Smith\"}\n",
       "]\n",
       "\n",
       "Running the code snippet on this data would result in a generator that yields:\n",
       "\n",
       "`[\"John Doe\", \"Jane Smith\"]`\n",
       "\n",
       "Note that `None` values are excluded from the output.\n",
       "\n",
       "**Expanded Example with Sample Data and Code**\n",
       "\n",
       "Let's see how the code works line by line:\n",
       "python\n",
       "# Define sample books data\n",
       "books = [\n",
       "    {\"title\": \"Book 1\", \"author\": \"John Doe\"},\n",
       "    {\"title\": \"Book 2\", \"author\": None},\n",
       "    {\"title\": \"Book 3\", \"author\": \"Jane Smith\"}\n",
       "]\n",
       "\n",
       "# Define the code snippet as a string\n",
       "code_snippet = \"\"\"\n",
       "yield from {book.get(\"author\") for book in books if book.get(\"author\")}\n",
       "\"\"\"\n",
       "\n",
       "# Execute the code snippet using Python (using eval)\n",
       "result_generator = eval(code_snippet)\n",
       "\n",
       "# Print each item yielded by the generator\n",
       "for author in result_generator:\n",
       "    print(author)\n",
       "\n",
       "Output:\n",
       "\n",
       "John Doe\n",
       "Jane Smith\n"
      ],
      "text/plain": [
       "<IPython.core.display.Markdown object>"
      ]
     },
     "metadata": {},
     "output_type": "display_data"
    }
   ],
   "source": [
    "explain_code_stream_llama_ollama(sys_prompt, CODE_SNIPPET)"
   ]
  },
  {
   "cell_type": "code",
   "execution_count": null,
   "id": "8c206f9a-44bf-40b6-98df-3aa322658747",
   "metadata": {},
   "outputs": [],
   "source": []
  }
 ],
 "metadata": {
  "kernelspec": {
   "display_name": "Python 3 (ipykernel)",
   "language": "python",
   "name": "python3"
  },
  "language_info": {
   "codemirror_mode": {
    "name": "ipython",
    "version": 3
   },
   "file_extension": ".py",
   "mimetype": "text/x-python",
   "name": "python",
   "nbconvert_exporter": "python",
   "pygments_lexer": "ipython3",
   "version": "3.11.11"
  }
 },
 "nbformat": 4,
 "nbformat_minor": 5
}
